{
 "cells": [
  {
   "cell_type": "markdown",
   "id": "7ed7352f",
   "metadata": {},
   "source": [
    "# Opciones de extracción de características utilizando Stop_Words en español"
   ]
  },
  {
   "cell_type": "markdown",
   "id": "c56dc8bd",
   "metadata": {},
   "source": [
    "### Documentos"
   ]
  },
  {
   "cell_type": "code",
   "execution_count": 1,
   "id": "b47b89fe",
   "metadata": {},
   "outputs": [],
   "source": [
    "texto = ['Este es el primer documento.',\n",
    "        'Este documento es el segundo.',\n",
    "        'Y este es el tercero.',\n",
    "         '¿Es este el primer documento?']"
   ]
  },
  {
   "cell_type": "code",
   "execution_count": 2,
   "id": "78c4844e",
   "metadata": {},
   "outputs": [],
   "source": [
    "mi_stop_words = ['este','es','el','y']"
   ]
  },
  {
   "cell_type": "markdown",
   "id": "c55fc8d9",
   "metadata": {},
   "source": [
    "### Extracción con CountVectorizer\n",
    "Determina una matriz de conteo"
   ]
  },
  {
   "cell_type": "code",
   "execution_count": 3,
   "id": "001f6239",
   "metadata": {},
   "outputs": [],
   "source": [
    "from sklearn.feature_extraction.text import CountVectorizer"
   ]
  },
  {
   "cell_type": "code",
   "execution_count": 4,
   "id": "121bd62d",
   "metadata": {},
   "outputs": [],
   "source": [
    "cv = CountVectorizer(stop_words=mi_stop_words)"
   ]
  },
  {
   "cell_type": "code",
   "execution_count": null,
   "id": "70d7af5b",
   "metadata": {},
   "outputs": [],
   "source": [
    "mat_cv = cv.fit_transform(texto)"
   ]
  },
  {
   "cell_type": "code",
   "execution_count": null,
   "id": "7243c7b6",
   "metadata": {},
   "outputs": [],
   "source": [
    "mat_cv"
   ]
  },
  {
   "cell_type": "code",
   "execution_count": null,
   "id": "ecf2bed3",
   "metadata": {},
   "outputs": [],
   "source": [
    "mat_cv.todense()"
   ]
  },
  {
   "cell_type": "code",
   "execution_count": null,
   "id": "b21c8069",
   "metadata": {},
   "outputs": [],
   "source": [
    "mat_cv.shape"
   ]
  },
  {
   "cell_type": "code",
   "execution_count": null,
   "id": "58596884",
   "metadata": {},
   "outputs": [],
   "source": [
    "cv.vocabulary_"
   ]
  },
  {
   "cell_type": "markdown",
   "id": "56b50271",
   "metadata": {},
   "source": [
    "### Extracción con TfidfTransformer\n",
    "TfidfTransformer se usa una matriz de conteo existente como la devuelta por CountVectorizer()"
   ]
  },
  {
   "cell_type": "code",
   "execution_count": null,
   "id": "24520a91",
   "metadata": {},
   "outputs": [],
   "source": [
    "from sklearn.feature_extraction.text import TfidfTransformer"
   ]
  },
  {
   "cell_type": "code",
   "execution_count": null,
   "id": "00d99a84",
   "metadata": {},
   "outputs": [],
   "source": [
    "tfidf_tra = TfidfTransformer()"
   ]
  },
  {
   "cell_type": "code",
   "execution_count": null,
   "id": "2afcf41d",
   "metadata": {},
   "outputs": [],
   "source": [
    "cv_tra = CountVectorizer(stop_words=mi_stop_words)"
   ]
  },
  {
   "cell_type": "code",
   "execution_count": null,
   "id": "d126d955",
   "metadata": {},
   "outputs": [],
   "source": [
    "mat_tra = cv_tra.fit_transform(texto)"
   ]
  },
  {
   "cell_type": "code",
   "execution_count": null,
   "id": "3f462b62",
   "metadata": {},
   "outputs": [],
   "source": [
    "mat_tra"
   ]
  },
  {
   "cell_type": "code",
   "execution_count": null,
   "id": "e2cee5cd",
   "metadata": {},
   "outputs": [],
   "source": [
    "mat_tra.todense()"
   ]
  },
  {
   "cell_type": "code",
   "execution_count": null,
   "id": "22335142",
   "metadata": {},
   "outputs": [],
   "source": [
    "tfidf = tfidf_tra.fit_transform(mat_tra)"
   ]
  },
  {
   "cell_type": "code",
   "execution_count": null,
   "id": "fd3337ed",
   "metadata": {},
   "outputs": [],
   "source": [
    "tfidf.todense()"
   ]
  },
  {
   "cell_type": "code",
   "execution_count": null,
   "id": "1cb33bc6",
   "metadata": {},
   "outputs": [],
   "source": [
    "cv_tra.vocabulary_"
   ]
  },
  {
   "cell_type": "markdown",
   "id": "ce8b9d47",
   "metadata": {},
   "source": [
    "### Extracción con TfidfVectorizer\n",
    "Hace lo mismo que los anteriores en un paso"
   ]
  },
  {
   "cell_type": "code",
   "execution_count": null,
   "id": "2547c33a",
   "metadata": {},
   "outputs": [],
   "source": [
    "from sklearn.feature_extraction.text import TfidfVectorizer"
   ]
  },
  {
   "cell_type": "code",
   "execution_count": null,
   "id": "80d83dfa",
   "metadata": {},
   "outputs": [],
   "source": [
    "tfidf_v = TfidfVectorizer(stop_words=mi_stop_words)"
   ]
  },
  {
   "cell_type": "code",
   "execution_count": null,
   "id": "026f25ca",
   "metadata": {},
   "outputs": [],
   "source": [
    "mat_tfidf = tfidf_v.fit_transform(texto)"
   ]
  },
  {
   "cell_type": "code",
   "execution_count": null,
   "id": "4cfe70ab",
   "metadata": {},
   "outputs": [],
   "source": [
    "mat_tfidf"
   ]
  },
  {
   "cell_type": "code",
   "execution_count": null,
   "id": "2b7ef895",
   "metadata": {},
   "outputs": [],
   "source": [
    "mat_tfidf.todense()"
   ]
  },
  {
   "cell_type": "code",
   "execution_count": null,
   "id": "77c17b2f",
   "metadata": {},
   "outputs": [],
   "source": [
    "tfidf_v.vocabulary_"
   ]
  },
  {
   "cell_type": "markdown",
   "id": "4789b085",
   "metadata": {},
   "source": [
    "### Ejemplo del uso de pipelines"
   ]
  },
  {
   "cell_type": "code",
   "execution_count": null,
   "id": "5f03b89e",
   "metadata": {},
   "outputs": [],
   "source": [
    "from sklearn.pipeline import Pipeline"
   ]
  },
  {
   "cell_type": "code",
   "execution_count": null,
   "id": "1b4c502c",
   "metadata": {},
   "outputs": [],
   "source": [
    "pipe = Pipeline([('cv2',CountVectorizer(stop_words=mi_stop_words)),\n",
    "                 ('tfidf2',TfidfTransformer())])"
   ]
  },
  {
   "cell_type": "code",
   "execution_count": null,
   "id": "b82cfd84",
   "metadata": {},
   "outputs": [],
   "source": [
    "resultados = pipe.fit_transform(texto)"
   ]
  },
  {
   "cell_type": "code",
   "execution_count": null,
   "id": "0b78d0d4",
   "metadata": {},
   "outputs": [],
   "source": [
    "resultados"
   ]
  },
  {
   "cell_type": "code",
   "execution_count": null,
   "id": "e402c6f9",
   "metadata": {},
   "outputs": [],
   "source": [
    "resultados.todense()"
   ]
  },
  {
   "cell_type": "code",
   "execution_count": null,
   "id": "88e18a3d",
   "metadata": {},
   "outputs": [],
   "source": [
    "cv_tra.vocabulary_"
   ]
  }
 ],
 "metadata": {
  "kernelspec": {
   "display_name": "Python 3",
   "language": "python",
   "name": "python3"
  },
  "language_info": {
   "codemirror_mode": {
    "name": "ipython",
    "version": 3
   },
   "file_extension": ".py",
   "mimetype": "text/x-python",
   "name": "python",
   "nbconvert_exporter": "python",
   "pygments_lexer": "ipython3",
   "version": "3.8.8"
  }
 },
 "nbformat": 4,
 "nbformat_minor": 5
}
