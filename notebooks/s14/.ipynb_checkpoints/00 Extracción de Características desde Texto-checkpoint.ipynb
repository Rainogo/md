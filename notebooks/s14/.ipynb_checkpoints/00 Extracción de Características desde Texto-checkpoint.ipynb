{
 "cells": [
  {
   "cell_type": "markdown",
   "id": "8a5b860c",
   "metadata": {},
   "source": [
    "# Extracción de Características desde Texto"
   ]
  },
  {
   "cell_type": "markdown",
   "id": "c8522d3d",
   "metadata": {},
   "source": [
    "## Extracción Manual"
   ]
  },
  {
   "cell_type": "code",
   "execution_count": 1,
   "id": "cf9062f7",
   "metadata": {},
   "outputs": [
    {
     "name": "stdout",
     "output_type": "stream",
     "text": [
      "This is a story about dogs\n",
      "our canine pets\n",
      "Dogs are furry animals\n",
      "\n"
     ]
    }
   ],
   "source": [
    "with open('One.txt') as texto:\n",
    "    print(texto.read())"
   ]
  },
  {
   "cell_type": "code",
   "execution_count": null,
   "id": "2ae701fe",
   "metadata": {},
   "outputs": [],
   "source": [
    "with open('Two.txt') as texto:\n",
    "    print(texto.read())"
   ]
  },
  {
   "cell_type": "markdown",
   "id": "70c5be09",
   "metadata": {},
   "source": [
    "Leer los datos completos como cadena"
   ]
  },
  {
   "cell_type": "code",
   "execution_count": null,
   "id": "27a49b01",
   "metadata": {},
   "outputs": [],
   "source": [
    "with open('One.txt') as texto:\n",
    "    texto_completo = texto.read()"
   ]
  },
  {
   "cell_type": "code",
   "execution_count": null,
   "id": "b0a1981e",
   "metadata": {},
   "outputs": [],
   "source": [
    "texto_completo"
   ]
  },
  {
   "cell_type": "code",
   "execution_count": null,
   "id": "c14ae970",
   "metadata": {},
   "outputs": [],
   "source": [
    "print(texto_completo)"
   ]
  },
  {
   "cell_type": "markdown",
   "id": "5cfa5dbd",
   "metadata": {},
   "source": [
    "Obtener palabras separadas"
   ]
  },
  {
   "cell_type": "code",
   "execution_count": null,
   "id": "f33cadb6",
   "metadata": {},
   "outputs": [],
   "source": [
    "with open('One.txt') as texto:\n",
    "    palabras = texto.read().lower().split()"
   ]
  },
  {
   "cell_type": "code",
   "execution_count": null,
   "id": "c7a367cb",
   "metadata": {},
   "outputs": [],
   "source": [
    "palabras"
   ]
  },
  {
   "cell_type": "markdown",
   "id": "36550515",
   "metadata": {},
   "source": [
    "Construcción de vocabulario"
   ]
  },
  {
   "cell_type": "code",
   "execution_count": null,
   "id": "03408224",
   "metadata": {},
   "outputs": [],
   "source": [
    "with open('One.txt') as texto:\n",
    "    palabras_one = texto.read().lower().split()"
   ]
  },
  {
   "cell_type": "code",
   "execution_count": null,
   "id": "d3ae0b8b",
   "metadata": {},
   "outputs": [],
   "source": [
    "len(palabras_one)"
   ]
  },
  {
   "cell_type": "code",
   "execution_count": null,
   "id": "8370670e",
   "metadata": {},
   "outputs": [],
   "source": [
    "uni_palabras_one = set(palabras_one)"
   ]
  },
  {
   "cell_type": "code",
   "execution_count": null,
   "id": "458226f9",
   "metadata": {},
   "outputs": [],
   "source": [
    "uni_palabras_one"
   ]
  },
  {
   "cell_type": "code",
   "execution_count": null,
   "id": "0685e100",
   "metadata": {},
   "outputs": [],
   "source": [
    "with open('Two.txt') as texto:\n",
    "    palabras_two = texto.read().lower().split()\n",
    "    uni_palabras_two = set(palabras_two)"
   ]
  },
  {
   "cell_type": "code",
   "execution_count": null,
   "id": "b7fd4f4b",
   "metadata": {},
   "outputs": [],
   "source": [
    "uni_palabras_two"
   ]
  },
  {
   "cell_type": "markdown",
   "id": "3d653ce7",
   "metadata": {},
   "source": [
    "Obtener palabras únicas en todos los documentos"
   ]
  },
  {
   "cell_type": "code",
   "execution_count": null,
   "id": "9be56694",
   "metadata": {},
   "outputs": [],
   "source": [
    "pal_uni_ambas = set()\n",
    "pal_uni_ambas.update(uni_palabras_one)\n",
    "pal_uni_ambas.update(uni_palabras_two)"
   ]
  },
  {
   "cell_type": "code",
   "execution_count": null,
   "id": "20398b42",
   "metadata": {},
   "outputs": [],
   "source": [
    "pal_uni_ambas"
   ]
  },
  {
   "cell_type": "code",
   "execution_count": null,
   "id": "4ad7b7ec",
   "metadata": {},
   "outputs": [],
   "source": [
    "vocabulario = dict()\n",
    "i=0\n",
    "for palabra in pal_uni_ambas:\n",
    "    vocabulario[palabra] = i\n",
    "    i=i+1"
   ]
  },
  {
   "cell_type": "code",
   "execution_count": null,
   "id": "1c4a44c3",
   "metadata": {},
   "outputs": [],
   "source": [
    "vocabulario"
   ]
  },
  {
   "cell_type": "markdown",
   "id": "0c27de8c",
   "metadata": {},
   "source": [
    "Conteo de Frecuencia de cada palabra"
   ]
  },
  {
   "cell_type": "code",
   "execution_count": null,
   "id": "d1da7efa",
   "metadata": {},
   "outputs": [],
   "source": [
    "# Crear vectores inicializados en cero para contar las palabras"
   ]
  },
  {
   "cell_type": "code",
   "execution_count": null,
   "id": "025e3d4c",
   "metadata": {},
   "outputs": [],
   "source": [
    "frec_one = [0]*len(vocabulario)\n",
    "frec_two = [0]*len(vocabulario)\n",
    "palabras_todas = ['']*len(vocabulario)"
   ]
  },
  {
   "cell_type": "code",
   "execution_count": null,
   "id": "d4dfb925",
   "metadata": {},
   "outputs": [],
   "source": [
    "print(frec_one)\n",
    "print(frec_two)\n",
    "print(palabras_todas)"
   ]
  },
  {
   "cell_type": "code",
   "execution_count": null,
   "id": "fdbc1dc4",
   "metadata": {},
   "outputs": [],
   "source": [
    "for palabra in vocabulario:\n",
    "    indice_palabra = vocabulario[palabra]\n",
    "    palabras_todas[indice_palabra] = palabra"
   ]
  },
  {
   "cell_type": "code",
   "execution_count": null,
   "id": "7c6b50df",
   "metadata": {},
   "outputs": [],
   "source": [
    "print(palabras_todas)"
   ]
  },
  {
   "cell_type": "code",
   "execution_count": null,
   "id": "eea0075c",
   "metadata": {},
   "outputs": [],
   "source": [
    "# Contar las palabras de cada documento\n",
    "with open('One.txt') as texto:\n",
    "    texto_one = texto.read().lower().split()\n",
    "\n",
    "for palabra in texto_one:\n",
    "    indice_palabra = vocabulario[palabra]\n",
    "    frec_one[indice_palabra] = frec_one[indice_palabra]+1"
   ]
  },
  {
   "cell_type": "code",
   "execution_count": null,
   "id": "5c918ab7",
   "metadata": {},
   "outputs": [],
   "source": [
    "print(frec_one)"
   ]
  },
  {
   "cell_type": "code",
   "execution_count": null,
   "id": "3a3be02c",
   "metadata": {},
   "outputs": [],
   "source": [
    "# Contar las palabras de cada documento\n",
    "with open('Two.txt') as texto:\n",
    "    texto_two = texto.read().lower().split()\n",
    "\n",
    "for palabra in texto_two:\n",
    "    indice_palabra = vocabulario[palabra]\n",
    "    frec_two[indice_palabra] = frec_two[indice_palabra]+1"
   ]
  },
  {
   "cell_type": "code",
   "execution_count": null,
   "id": "67f80dcc",
   "metadata": {},
   "outputs": [],
   "source": [
    "print(frec_two)"
   ]
  },
  {
   "cell_type": "code",
   "execution_count": null,
   "id": "eebc1ddd",
   "metadata": {},
   "outputs": [],
   "source": [
    "import pandas as pd"
   ]
  },
  {
   "cell_type": "code",
   "execution_count": null,
   "id": "e4420a8d",
   "metadata": {},
   "outputs": [],
   "source": [
    "pd.DataFrame(data=[frec_one,frec_two],columns=palabras_todas)"
   ]
  },
  {
   "cell_type": "markdown",
   "id": "bf42df95",
   "metadata": {},
   "source": [
    "## Extracción con herramientas scikit_learn"
   ]
  },
  {
   "cell_type": "code",
   "execution_count": null,
   "id": "c1e23e65",
   "metadata": {},
   "outputs": [],
   "source": [
    "texto = ['This is a line',\n",
    "        'This is another line',\n",
    "        'Completely different line']"
   ]
  },
  {
   "cell_type": "code",
   "execution_count": null,
   "id": "08ea44ce",
   "metadata": {},
   "outputs": [],
   "source": [
    "from sklearn.feature_extraction.text import TfidfTransformer\n",
    "from sklearn.feature_extraction.text import TfidfVectorizer\n",
    "from sklearn.feature_extraction.text import CountVectorizer"
   ]
  },
  {
   "cell_type": "code",
   "execution_count": null,
   "id": "f88cc64f",
   "metadata": {},
   "outputs": [],
   "source": [
    "vc = CountVectorizer()"
   ]
  },
  {
   "cell_type": "code",
   "execution_count": null,
   "id": "934a201e",
   "metadata": {},
   "outputs": [],
   "source": [
    "vc.fit_transform(texto)"
   ]
  },
  {
   "cell_type": "code",
   "execution_count": null,
   "id": "bba2a750",
   "metadata": {},
   "outputs": [],
   "source": [
    "mat_disp = vc.fit_transform(texto)"
   ]
  },
  {
   "cell_type": "code",
   "execution_count": null,
   "id": "41cd733d",
   "metadata": {},
   "outputs": [],
   "source": [
    "mat_disp.todense()"
   ]
  },
  {
   "cell_type": "code",
   "execution_count": null,
   "id": "42d4d536",
   "metadata": {},
   "outputs": [],
   "source": [
    "vc.vocabulary_"
   ]
  },
  {
   "cell_type": "code",
   "execution_count": null,
   "id": "6f8a4469",
   "metadata": {},
   "outputs": [],
   "source": [
    "vc = CountVectorizer(stop_words='english')"
   ]
  },
  {
   "cell_type": "code",
   "execution_count": null,
   "id": "3fca1406",
   "metadata": {},
   "outputs": [],
   "source": [
    "vc.fit_transform(texto).todense()"
   ]
  },
  {
   "cell_type": "code",
   "execution_count": null,
   "id": "bca7e7a8",
   "metadata": {},
   "outputs": [],
   "source": [
    "vc.vocabulary_"
   ]
  },
  {
   "cell_type": "markdown",
   "id": "395feefd",
   "metadata": {},
   "source": [
    "Uso de TfidfTransformer"
   ]
  },
  {
   "cell_type": "code",
   "execution_count": null,
   "id": "a389ae9d",
   "metadata": {},
   "outputs": [],
   "source": [
    "transformador_tfidf = TfidfTransformer()"
   ]
  },
  {
   "cell_type": "code",
   "execution_count": null,
   "id": "52526c6a",
   "metadata": {},
   "outputs": [],
   "source": [
    "vc = CountVectorizer()"
   ]
  },
  {
   "cell_type": "code",
   "execution_count": null,
   "id": "dd4bd023",
   "metadata": {},
   "outputs": [],
   "source": [
    "conteo = vc.fit_transform(texto)"
   ]
  },
  {
   "cell_type": "code",
   "execution_count": null,
   "id": "4192a4cb",
   "metadata": {},
   "outputs": [],
   "source": [
    "conteo"
   ]
  },
  {
   "cell_type": "code",
   "execution_count": null,
   "id": "685529f3",
   "metadata": {},
   "outputs": [],
   "source": [
    "conteo.todense()"
   ]
  },
  {
   "cell_type": "code",
   "execution_count": null,
   "id": "550a2875",
   "metadata": {},
   "outputs": [],
   "source": [
    "tfidf = transformador_tfidf.fit_transform(conteo)"
   ]
  },
  {
   "cell_type": "code",
   "execution_count": null,
   "id": "83371271",
   "metadata": {},
   "outputs": [],
   "source": [
    "tfidf"
   ]
  },
  {
   "cell_type": "code",
   "execution_count": null,
   "id": "eaa232df",
   "metadata": {},
   "outputs": [],
   "source": [
    "tfidf.todense()"
   ]
  },
  {
   "cell_type": "code",
   "execution_count": null,
   "id": "f550e598",
   "metadata": {},
   "outputs": [],
   "source": [
    "vc.vocabulary_"
   ]
  }
 ],
 "metadata": {
  "kernelspec": {
   "display_name": "Python 3",
   "language": "python",
   "name": "python3"
  },
  "language_info": {
   "codemirror_mode": {
    "name": "ipython",
    "version": 3
   },
   "file_extension": ".py",
   "mimetype": "text/x-python",
   "name": "python",
   "nbconvert_exporter": "python",
   "pygments_lexer": "ipython3",
   "version": "3.8.8"
  }
 },
 "nbformat": 4,
 "nbformat_minor": 5
}
