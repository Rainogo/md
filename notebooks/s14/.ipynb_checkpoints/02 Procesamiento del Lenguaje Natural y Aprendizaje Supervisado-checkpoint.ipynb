{
 "cells": [
  {
   "cell_type": "markdown",
   "id": "c56140b1",
   "metadata": {},
   "source": [
    "# Procesamiento del Lenguaje Natural y Aprendizaje Supervisado"
   ]
  },
  {
   "cell_type": "markdown",
   "id": "2f62021c",
   "metadata": {},
   "source": [
    "### Importar librerias"
   ]
  },
  {
   "cell_type": "code",
   "execution_count": 1,
   "id": "7b3792b6",
   "metadata": {},
   "outputs": [],
   "source": [
    "import pandas as pd\n",
    "import seaborn as sns\n",
    "import matplotlib.pyplot as plt"
   ]
  },
  {
   "cell_type": "markdown",
   "id": "414f88cc",
   "metadata": {},
   "source": [
    "### Leer los datos"
   ]
  },
  {
   "cell_type": "code",
   "execution_count": 2,
   "id": "0a4a558d",
   "metadata": {},
   "outputs": [],
   "source": [
    "datos = pd.read_csv('airline_tweets.csv')"
   ]
  },
  {
   "cell_type": "code",
   "execution_count": 3,
   "id": "607d5c6f",
   "metadata": {},
   "outputs": [
    {
     "data": {
      "text/html": [
       "<div>\n",
       "<style scoped>\n",
       "    .dataframe tbody tr th:only-of-type {\n",
       "        vertical-align: middle;\n",
       "    }\n",
       "\n",
       "    .dataframe tbody tr th {\n",
       "        vertical-align: top;\n",
       "    }\n",
       "\n",
       "    .dataframe thead th {\n",
       "        text-align: right;\n",
       "    }\n",
       "</style>\n",
       "<table border=\"1\" class=\"dataframe\">\n",
       "  <thead>\n",
       "    <tr style=\"text-align: right;\">\n",
       "      <th></th>\n",
       "      <th>tweet_id</th>\n",
       "      <th>airline_sentiment</th>\n",
       "      <th>airline_sentiment_confidence</th>\n",
       "      <th>negativereason</th>\n",
       "      <th>negativereason_confidence</th>\n",
       "      <th>airline</th>\n",
       "      <th>airline_sentiment_gold</th>\n",
       "      <th>name</th>\n",
       "      <th>negativereason_gold</th>\n",
       "      <th>retweet_count</th>\n",
       "      <th>text</th>\n",
       "      <th>tweet_coord</th>\n",
       "      <th>tweet_created</th>\n",
       "      <th>tweet_location</th>\n",
       "      <th>user_timezone</th>\n",
       "    </tr>\n",
       "  </thead>\n",
       "  <tbody>\n",
       "    <tr>\n",
       "      <th>0</th>\n",
       "      <td>570306133677760513</td>\n",
       "      <td>neutral</td>\n",
       "      <td>1.0000</td>\n",
       "      <td>NaN</td>\n",
       "      <td>NaN</td>\n",
       "      <td>Virgin America</td>\n",
       "      <td>NaN</td>\n",
       "      <td>cairdin</td>\n",
       "      <td>NaN</td>\n",
       "      <td>0</td>\n",
       "      <td>@VirginAmerica What @dhepburn said.</td>\n",
       "      <td>NaN</td>\n",
       "      <td>2015-02-24 11:35:52 -0800</td>\n",
       "      <td>NaN</td>\n",
       "      <td>Eastern Time (US &amp; Canada)</td>\n",
       "    </tr>\n",
       "    <tr>\n",
       "      <th>1</th>\n",
       "      <td>570301130888122368</td>\n",
       "      <td>positive</td>\n",
       "      <td>0.3486</td>\n",
       "      <td>NaN</td>\n",
       "      <td>0.0000</td>\n",
       "      <td>Virgin America</td>\n",
       "      <td>NaN</td>\n",
       "      <td>jnardino</td>\n",
       "      <td>NaN</td>\n",
       "      <td>0</td>\n",
       "      <td>@VirginAmerica plus you've added commercials t...</td>\n",
       "      <td>NaN</td>\n",
       "      <td>2015-02-24 11:15:59 -0800</td>\n",
       "      <td>NaN</td>\n",
       "      <td>Pacific Time (US &amp; Canada)</td>\n",
       "    </tr>\n",
       "    <tr>\n",
       "      <th>2</th>\n",
       "      <td>570301083672813571</td>\n",
       "      <td>neutral</td>\n",
       "      <td>0.6837</td>\n",
       "      <td>NaN</td>\n",
       "      <td>NaN</td>\n",
       "      <td>Virgin America</td>\n",
       "      <td>NaN</td>\n",
       "      <td>yvonnalynn</td>\n",
       "      <td>NaN</td>\n",
       "      <td>0</td>\n",
       "      <td>@VirginAmerica I didn't today... Must mean I n...</td>\n",
       "      <td>NaN</td>\n",
       "      <td>2015-02-24 11:15:48 -0800</td>\n",
       "      <td>Lets Play</td>\n",
       "      <td>Central Time (US &amp; Canada)</td>\n",
       "    </tr>\n",
       "    <tr>\n",
       "      <th>3</th>\n",
       "      <td>570301031407624196</td>\n",
       "      <td>negative</td>\n",
       "      <td>1.0000</td>\n",
       "      <td>Bad Flight</td>\n",
       "      <td>0.7033</td>\n",
       "      <td>Virgin America</td>\n",
       "      <td>NaN</td>\n",
       "      <td>jnardino</td>\n",
       "      <td>NaN</td>\n",
       "      <td>0</td>\n",
       "      <td>@VirginAmerica it's really aggressive to blast...</td>\n",
       "      <td>NaN</td>\n",
       "      <td>2015-02-24 11:15:36 -0800</td>\n",
       "      <td>NaN</td>\n",
       "      <td>Pacific Time (US &amp; Canada)</td>\n",
       "    </tr>\n",
       "    <tr>\n",
       "      <th>4</th>\n",
       "      <td>570300817074462722</td>\n",
       "      <td>negative</td>\n",
       "      <td>1.0000</td>\n",
       "      <td>Can't Tell</td>\n",
       "      <td>1.0000</td>\n",
       "      <td>Virgin America</td>\n",
       "      <td>NaN</td>\n",
       "      <td>jnardino</td>\n",
       "      <td>NaN</td>\n",
       "      <td>0</td>\n",
       "      <td>@VirginAmerica and it's a really big bad thing...</td>\n",
       "      <td>NaN</td>\n",
       "      <td>2015-02-24 11:14:45 -0800</td>\n",
       "      <td>NaN</td>\n",
       "      <td>Pacific Time (US &amp; Canada)</td>\n",
       "    </tr>\n",
       "  </tbody>\n",
       "</table>\n",
       "</div>"
      ],
      "text/plain": [
       "             tweet_id airline_sentiment  airline_sentiment_confidence  \\\n",
       "0  570306133677760513           neutral                        1.0000   \n",
       "1  570301130888122368          positive                        0.3486   \n",
       "2  570301083672813571           neutral                        0.6837   \n",
       "3  570301031407624196          negative                        1.0000   \n",
       "4  570300817074462722          negative                        1.0000   \n",
       "\n",
       "  negativereason  negativereason_confidence         airline  \\\n",
       "0            NaN                        NaN  Virgin America   \n",
       "1            NaN                     0.0000  Virgin America   \n",
       "2            NaN                        NaN  Virgin America   \n",
       "3     Bad Flight                     0.7033  Virgin America   \n",
       "4     Can't Tell                     1.0000  Virgin America   \n",
       "\n",
       "  airline_sentiment_gold        name negativereason_gold  retweet_count  \\\n",
       "0                    NaN     cairdin                 NaN              0   \n",
       "1                    NaN    jnardino                 NaN              0   \n",
       "2                    NaN  yvonnalynn                 NaN              0   \n",
       "3                    NaN    jnardino                 NaN              0   \n",
       "4                    NaN    jnardino                 NaN              0   \n",
       "\n",
       "                                                text tweet_coord  \\\n",
       "0                @VirginAmerica What @dhepburn said.         NaN   \n",
       "1  @VirginAmerica plus you've added commercials t...         NaN   \n",
       "2  @VirginAmerica I didn't today... Must mean I n...         NaN   \n",
       "3  @VirginAmerica it's really aggressive to blast...         NaN   \n",
       "4  @VirginAmerica and it's a really big bad thing...         NaN   \n",
       "\n",
       "               tweet_created tweet_location               user_timezone  \n",
       "0  2015-02-24 11:35:52 -0800            NaN  Eastern Time (US & Canada)  \n",
       "1  2015-02-24 11:15:59 -0800            NaN  Pacific Time (US & Canada)  \n",
       "2  2015-02-24 11:15:48 -0800      Lets Play  Central Time (US & Canada)  \n",
       "3  2015-02-24 11:15:36 -0800            NaN  Pacific Time (US & Canada)  \n",
       "4  2015-02-24 11:14:45 -0800            NaN  Pacific Time (US & Canada)  "
      ]
     },
     "execution_count": 3,
     "metadata": {},
     "output_type": "execute_result"
    }
   ],
   "source": [
    "datos.head()"
   ]
  },
  {
   "cell_type": "code",
   "execution_count": null,
   "id": "42b8ffbf",
   "metadata": {},
   "outputs": [],
   "source": [
    "datos.info()"
   ]
  },
  {
   "cell_type": "code",
   "execution_count": null,
   "id": "02d76f30",
   "metadata": {},
   "outputs": [],
   "source": [
    "sns.countplot(data=datos,x='airline',hue='airline_sentiment')"
   ]
  },
  {
   "cell_type": "code",
   "execution_count": null,
   "id": "3c1218ee",
   "metadata": {},
   "outputs": [],
   "source": [
    "sns.countplot(data=datos,x='negativereason')\n",
    "plt.xticks(rotation=90);"
   ]
  },
  {
   "cell_type": "code",
   "execution_count": null,
   "id": "a7623e15",
   "metadata": {},
   "outputs": [],
   "source": [
    "sns.countplot(data=datos,x='airline_sentiment')"
   ]
  },
  {
   "cell_type": "code",
   "execution_count": null,
   "id": "5c6dd1cb",
   "metadata": {},
   "outputs": [],
   "source": [
    "datos['airline_sentiment'].value_counts()"
   ]
  },
  {
   "cell_type": "markdown",
   "id": "9486ef0d",
   "metadata": {},
   "source": [
    "## Características y etiquetas"
   ]
  },
  {
   "cell_type": "code",
   "execution_count": null,
   "id": "47764caa",
   "metadata": {},
   "outputs": [],
   "source": [
    "documentos = datos[['airline_sentiment','text']]"
   ]
  },
  {
   "cell_type": "code",
   "execution_count": null,
   "id": "ea942f9d",
   "metadata": {},
   "outputs": [],
   "source": [
    "documentos.head()"
   ]
  },
  {
   "cell_type": "code",
   "execution_count": null,
   "id": "2ce477fa",
   "metadata": {},
   "outputs": [],
   "source": [
    "y = datos['airline_sentiment']\n",
    "X = datos['text']"
   ]
  },
  {
   "cell_type": "markdown",
   "id": "9a776bc4",
   "metadata": {},
   "source": [
    "### División en conjunto de entrenamiento y prueba"
   ]
  },
  {
   "cell_type": "code",
   "execution_count": null,
   "id": "a71a2cc3",
   "metadata": {},
   "outputs": [],
   "source": [
    "from sklearn.model_selection import train_test_split"
   ]
  },
  {
   "cell_type": "code",
   "execution_count": null,
   "id": "28b4d777",
   "metadata": {},
   "outputs": [],
   "source": [
    "X_train, X_test, y_train, y_test = train_test_split(X,\n",
    "                                                   y,\n",
    "                                                   test_size=0.20,\n",
    "                                                   random_state=101)"
   ]
  },
  {
   "cell_type": "markdown",
   "id": "f6a3a6a7",
   "metadata": {},
   "source": [
    "### Vectorización"
   ]
  },
  {
   "cell_type": "code",
   "execution_count": null,
   "id": "e9604f23",
   "metadata": {},
   "outputs": [],
   "source": [
    "from sklearn.feature_extraction.text import TfidfVectorizer"
   ]
  },
  {
   "cell_type": "code",
   "execution_count": null,
   "id": "492ea6b6",
   "metadata": {},
   "outputs": [],
   "source": [
    "tfidf = TfidfVectorizer(stop_words='english')"
   ]
  },
  {
   "cell_type": "code",
   "execution_count": null,
   "id": "98cc4731",
   "metadata": {},
   "outputs": [],
   "source": [
    "tfidf.fit(X_train)"
   ]
  },
  {
   "cell_type": "code",
   "execution_count": null,
   "id": "042ae566",
   "metadata": {},
   "outputs": [],
   "source": [
    "X_train_tfidf = tfidf.transform(X_train)\n",
    "X_test_tfidf = tfidf.transform(X_test)"
   ]
  },
  {
   "cell_type": "code",
   "execution_count": null,
   "id": "44b2428e",
   "metadata": {},
   "outputs": [],
   "source": [
    "X_train_tfidf"
   ]
  },
  {
   "cell_type": "markdown",
   "id": "7641655a",
   "metadata": {},
   "source": [
    "### Comparación de Modelos: Naive Bayes, Regresión Logística, LinearSVC"
   ]
  },
  {
   "cell_type": "code",
   "execution_count": null,
   "id": "db55e80d",
   "metadata": {},
   "outputs": [],
   "source": [
    "from sklearn.naive_bayes import MultinomialNB\n",
    "nb = MultinomialNB()\n",
    "nb.fit(X_train_tfidf,y_train)"
   ]
  },
  {
   "cell_type": "code",
   "execution_count": null,
   "id": "b33df725",
   "metadata": {},
   "outputs": [],
   "source": [
    "from sklearn.linear_model import LogisticRegression\n",
    "log = LogisticRegression(max_iter = 1000)\n",
    "log.fit(X_train_tfidf,y_train)"
   ]
  },
  {
   "cell_type": "code",
   "execution_count": null,
   "id": "1047cdeb",
   "metadata": {},
   "outputs": [],
   "source": [
    "from sklearn.svm import LinearSVC\n",
    "svc = LinearSVC()\n",
    "svc.fit(X_train_tfidf,y_train)"
   ]
  },
  {
   "cell_type": "markdown",
   "id": "f67e9734",
   "metadata": {},
   "source": [
    "### Evaluación"
   ]
  },
  {
   "cell_type": "code",
   "execution_count": null,
   "id": "a99f2718",
   "metadata": {},
   "outputs": [],
   "source": [
    "from sklearn.metrics import plot_confusion_matrix\n",
    "from sklearn.metrics import classification_report"
   ]
  },
  {
   "cell_type": "code",
   "execution_count": null,
   "id": "74b824c8",
   "metadata": {},
   "outputs": [],
   "source": [
    "def reporte(modelo):\n",
    "    preds = modelo.predict(X_test_tfidf)\n",
    "    print(classification_report(y_test,preds))\n",
    "    plot_confusion_matrix(modelo,X_test_tfidf,y_test)"
   ]
  },
  {
   "cell_type": "code",
   "execution_count": null,
   "id": "403419c0",
   "metadata": {},
   "outputs": [],
   "source": [
    "print(\"Modelo Naive Bayes\")\n",
    "reporte(nb)"
   ]
  },
  {
   "cell_type": "code",
   "execution_count": null,
   "id": "aab965bf",
   "metadata": {},
   "outputs": [],
   "source": [
    "print(\"Regresión Logística\")\n",
    "reporte(log)"
   ]
  },
  {
   "cell_type": "code",
   "execution_count": null,
   "id": "baae0184",
   "metadata": {},
   "outputs": [],
   "source": [
    "print('Clasificador con Vectores de Soporte')\n",
    "reporte(svc)"
   ]
  },
  {
   "cell_type": "markdown",
   "id": "4eb31534",
   "metadata": {},
   "source": [
    "### Pipeline para nuevos tweets"
   ]
  },
  {
   "cell_type": "code",
   "execution_count": null,
   "id": "17d87dad",
   "metadata": {},
   "outputs": [],
   "source": [
    "from sklearn.pipeline import Pipeline"
   ]
  },
  {
   "cell_type": "code",
   "execution_count": null,
   "id": "0210b5a5",
   "metadata": {},
   "outputs": [],
   "source": [
    "pipe = Pipeline([('tfidf',TfidfVectorizer()),\n",
    "                 ('svc',LinearSVC())])"
   ]
  },
  {
   "cell_type": "code",
   "execution_count": null,
   "id": "1695fc88",
   "metadata": {},
   "outputs": [],
   "source": [
    "pipe.fit(X,y)"
   ]
  },
  {
   "cell_type": "code",
   "execution_count": null,
   "id": "5d2416a7",
   "metadata": {},
   "outputs": [],
   "source": [
    "nuevo_tweet = ['good flight']\n",
    "pipe.predict(nuevo_tweet)"
   ]
  },
  {
   "cell_type": "code",
   "execution_count": null,
   "id": "10bc3a1b",
   "metadata": {},
   "outputs": [],
   "source": [
    "nuevo_tweet = ['bad flight']\n",
    "pipe.predict(nuevo_tweet)"
   ]
  },
  {
   "cell_type": "code",
   "execution_count": null,
   "id": "27666b49",
   "metadata": {},
   "outputs": [],
   "source": [
    "nuevo_tweet = ['ok flight']\n",
    "pipe.predict(nuevo_tweet)"
   ]
  }
 ],
 "metadata": {
  "kernelspec": {
   "display_name": "Python 3",
   "language": "python",
   "name": "python3"
  },
  "language_info": {
   "codemirror_mode": {
    "name": "ipython",
    "version": 3
   },
   "file_extension": ".py",
   "mimetype": "text/x-python",
   "name": "python",
   "nbconvert_exporter": "python",
   "pygments_lexer": "ipython3",
   "version": "3.8.8"
  }
 },
 "nbformat": 4,
 "nbformat_minor": 5
}
