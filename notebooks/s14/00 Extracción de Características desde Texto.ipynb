{
 "cells": [
  {
   "cell_type": "markdown",
   "id": "8a5b860c",
   "metadata": {},
   "source": [
    "# Extracción de Características desde Texto"
   ]
  },
  {
   "cell_type": "markdown",
   "id": "c8522d3d",
   "metadata": {},
   "source": [
    "## Extracción Manual"
   ]
  },
  {
   "cell_type": "code",
   "execution_count": 1,
   "id": "cf9062f7",
   "metadata": {},
   "outputs": [
    {
     "name": "stdout",
     "output_type": "stream",
     "text": [
      "This is a story about dogs\n",
      "our canine pets\n",
      "Dogs are furry animals\n",
      "\n"
     ]
    }
   ],
   "source": [
    "with open('One.txt') as texto:\n",
    "    print(texto.read())"
   ]
  },
  {
   "cell_type": "code",
   "execution_count": 2,
   "id": "2ae701fe",
   "metadata": {},
   "outputs": [
    {
     "name": "stdout",
     "output_type": "stream",
     "text": [
      "This story is about surfing\n",
      "Catching waves is fun\n",
      "Surfing is a popular water sport\n",
      "\n"
     ]
    }
   ],
   "source": [
    "with open('Two.txt') as texto:\n",
    "    print(texto.read())"
   ]
  },
  {
   "cell_type": "markdown",
   "id": "70c5be09",
   "metadata": {},
   "source": [
    "Leer los datos completos como cadena"
   ]
  },
  {
   "cell_type": "code",
   "execution_count": 3,
   "id": "27a49b01",
   "metadata": {},
   "outputs": [],
   "source": [
    "with open('One.txt') as texto:\n",
    "    texto_completo = texto.read()"
   ]
  },
  {
   "cell_type": "code",
   "execution_count": 4,
   "id": "b0a1981e",
   "metadata": {},
   "outputs": [
    {
     "data": {
      "text/plain": [
       "'This is a story about dogs\\nour canine pets\\nDogs are furry animals\\n'"
      ]
     },
     "execution_count": 4,
     "metadata": {},
     "output_type": "execute_result"
    }
   ],
   "source": [
    "texto_completo"
   ]
  },
  {
   "cell_type": "code",
   "execution_count": 5,
   "id": "c14ae970",
   "metadata": {},
   "outputs": [
    {
     "name": "stdout",
     "output_type": "stream",
     "text": [
      "This is a story about dogs\n",
      "our canine pets\n",
      "Dogs are furry animals\n",
      "\n"
     ]
    }
   ],
   "source": [
    "print(texto_completo)"
   ]
  },
  {
   "cell_type": "markdown",
   "id": "5cfa5dbd",
   "metadata": {},
   "source": [
    "Obtener palabras separadas"
   ]
  },
  {
   "cell_type": "code",
   "execution_count": 6,
   "id": "f33cadb6",
   "metadata": {},
   "outputs": [],
   "source": [
    "with open('One.txt') as texto:\n",
    "    palabras = texto.read().lower().split()"
   ]
  },
  {
   "cell_type": "code",
   "execution_count": 7,
   "id": "c7a367cb",
   "metadata": {},
   "outputs": [
    {
     "data": {
      "text/plain": [
       "['this',\n",
       " 'is',\n",
       " 'a',\n",
       " 'story',\n",
       " 'about',\n",
       " 'dogs',\n",
       " 'our',\n",
       " 'canine',\n",
       " 'pets',\n",
       " 'dogs',\n",
       " 'are',\n",
       " 'furry',\n",
       " 'animals']"
      ]
     },
     "execution_count": 7,
     "metadata": {},
     "output_type": "execute_result"
    }
   ],
   "source": [
    "palabras"
   ]
  },
  {
   "cell_type": "markdown",
   "id": "36550515",
   "metadata": {},
   "source": [
    "Construcción de vocabulario"
   ]
  },
  {
   "cell_type": "code",
   "execution_count": 8,
   "id": "03408224",
   "metadata": {},
   "outputs": [],
   "source": [
    "with open('One.txt') as texto:\n",
    "    palabras_one = texto.read().lower().split()"
   ]
  },
  {
   "cell_type": "code",
   "execution_count": 9,
   "id": "d3ae0b8b",
   "metadata": {},
   "outputs": [
    {
     "data": {
      "text/plain": [
       "13"
      ]
     },
     "execution_count": 9,
     "metadata": {},
     "output_type": "execute_result"
    }
   ],
   "source": [
    "len(palabras_one)"
   ]
  },
  {
   "cell_type": "code",
   "execution_count": 10,
   "id": "8370670e",
   "metadata": {},
   "outputs": [],
   "source": [
    "uni_palabras_one = set(palabras_one)"
   ]
  },
  {
   "cell_type": "code",
   "execution_count": 11,
   "id": "458226f9",
   "metadata": {},
   "outputs": [
    {
     "data": {
      "text/plain": [
       "{'a',\n",
       " 'about',\n",
       " 'animals',\n",
       " 'are',\n",
       " 'canine',\n",
       " 'dogs',\n",
       " 'furry',\n",
       " 'is',\n",
       " 'our',\n",
       " 'pets',\n",
       " 'story',\n",
       " 'this'}"
      ]
     },
     "execution_count": 11,
     "metadata": {},
     "output_type": "execute_result"
    }
   ],
   "source": [
    "uni_palabras_one"
   ]
  },
  {
   "cell_type": "code",
   "execution_count": 12,
   "id": "6a8c75dd",
   "metadata": {},
   "outputs": [
    {
     "data": {
      "text/plain": [
       "12"
      ]
     },
     "execution_count": 12,
     "metadata": {},
     "output_type": "execute_result"
    }
   ],
   "source": [
    "len(uni_palabras_one)"
   ]
  },
  {
   "cell_type": "code",
   "execution_count": 13,
   "id": "0685e100",
   "metadata": {},
   "outputs": [],
   "source": [
    "with open('Two.txt') as texto:\n",
    "    palabras_two = texto.read().lower().split()\n",
    "    uni_palabras_two = set(palabras_two)"
   ]
  },
  {
   "cell_type": "code",
   "execution_count": 14,
   "id": "b7fd4f4b",
   "metadata": {},
   "outputs": [
    {
     "data": {
      "text/plain": [
       "{'a',\n",
       " 'about',\n",
       " 'catching',\n",
       " 'fun',\n",
       " 'is',\n",
       " 'popular',\n",
       " 'sport',\n",
       " 'story',\n",
       " 'surfing',\n",
       " 'this',\n",
       " 'water',\n",
       " 'waves'}"
      ]
     },
     "execution_count": 14,
     "metadata": {},
     "output_type": "execute_result"
    }
   ],
   "source": [
    "uni_palabras_two"
   ]
  },
  {
   "cell_type": "markdown",
   "id": "3d653ce7",
   "metadata": {},
   "source": [
    "Obtener palabras únicas en todos los documentos"
   ]
  },
  {
   "cell_type": "code",
   "execution_count": 15,
   "id": "9be56694",
   "metadata": {},
   "outputs": [],
   "source": [
    "pal_uni_ambas = set()\n",
    "pal_uni_ambas.update(uni_palabras_one)\n",
    "pal_uni_ambas.update(uni_palabras_two)"
   ]
  },
  {
   "cell_type": "code",
   "execution_count": 16,
   "id": "20398b42",
   "metadata": {},
   "outputs": [
    {
     "data": {
      "text/plain": [
       "{'a',\n",
       " 'about',\n",
       " 'animals',\n",
       " 'are',\n",
       " 'canine',\n",
       " 'catching',\n",
       " 'dogs',\n",
       " 'fun',\n",
       " 'furry',\n",
       " 'is',\n",
       " 'our',\n",
       " 'pets',\n",
       " 'popular',\n",
       " 'sport',\n",
       " 'story',\n",
       " 'surfing',\n",
       " 'this',\n",
       " 'water',\n",
       " 'waves'}"
      ]
     },
     "execution_count": 16,
     "metadata": {},
     "output_type": "execute_result"
    }
   ],
   "source": [
    "pal_uni_ambas"
   ]
  },
  {
   "cell_type": "code",
   "execution_count": 17,
   "id": "4ad7b7ec",
   "metadata": {},
   "outputs": [],
   "source": [
    "vocabulario = dict()\n",
    "i=0\n",
    "for palabra in pal_uni_ambas:\n",
    "    vocabulario[palabra] = i\n",
    "    i=i+1"
   ]
  },
  {
   "cell_type": "code",
   "execution_count": 18,
   "id": "1c4a44c3",
   "metadata": {},
   "outputs": [
    {
     "data": {
      "text/plain": [
       "{'fun': 0,\n",
       " 'furry': 1,\n",
       " 'are': 2,\n",
       " 'popular': 3,\n",
       " 'water': 4,\n",
       " 'our': 5,\n",
       " 'sport': 6,\n",
       " 'waves': 7,\n",
       " 'dogs': 8,\n",
       " 'story': 9,\n",
       " 'pets': 10,\n",
       " 'this': 11,\n",
       " 'about': 12,\n",
       " 'surfing': 13,\n",
       " 'a': 14,\n",
       " 'canine': 15,\n",
       " 'is': 16,\n",
       " 'animals': 17,\n",
       " 'catching': 18}"
      ]
     },
     "execution_count": 18,
     "metadata": {},
     "output_type": "execute_result"
    }
   ],
   "source": [
    "vocabulario"
   ]
  },
  {
   "cell_type": "markdown",
   "id": "0c27de8c",
   "metadata": {},
   "source": [
    "Conteo de Frecuencia de cada palabra"
   ]
  },
  {
   "cell_type": "code",
   "execution_count": null,
   "id": "d1da7efa",
   "metadata": {},
   "outputs": [],
   "source": [
    "# Crear vectores inicializados en cero para contar las palabras"
   ]
  },
  {
   "cell_type": "code",
   "execution_count": 20,
   "id": "025e3d4c",
   "metadata": {},
   "outputs": [],
   "source": [
    "frec_one = [0]*len(vocabulario)\n",
    "frec_two = [0]*len(vocabulario)\n",
    "palabras_todas = ['']*len(vocabulario)"
   ]
  },
  {
   "cell_type": "code",
   "execution_count": 21,
   "id": "d4dfb925",
   "metadata": {},
   "outputs": [
    {
     "name": "stdout",
     "output_type": "stream",
     "text": [
      "[0, 0, 0, 0, 0, 0, 0, 0, 0, 0, 0, 0, 0, 0, 0, 0, 0, 0, 0]\n",
      "[0, 0, 0, 0, 0, 0, 0, 0, 0, 0, 0, 0, 0, 0, 0, 0, 0, 0, 0]\n",
      "['', '', '', '', '', '', '', '', '', '', '', '', '', '', '', '', '', '', '']\n"
     ]
    }
   ],
   "source": [
    "print(frec_one)\n",
    "print(frec_two)\n",
    "print(palabras_todas)"
   ]
  },
  {
   "cell_type": "code",
   "execution_count": 22,
   "id": "fdbc1dc4",
   "metadata": {},
   "outputs": [],
   "source": [
    "for palabra in vocabulario:\n",
    "    indice_palabra = vocabulario[palabra]\n",
    "    palabras_todas[indice_palabra] = palabra"
   ]
  },
  {
   "cell_type": "code",
   "execution_count": 23,
   "id": "7c6b50df",
   "metadata": {},
   "outputs": [
    {
     "name": "stdout",
     "output_type": "stream",
     "text": [
      "['fun', 'furry', 'are', 'popular', 'water', 'our', 'sport', 'waves', 'dogs', 'story', 'pets', 'this', 'about', 'surfing', 'a', 'canine', 'is', 'animals', 'catching']\n"
     ]
    }
   ],
   "source": [
    "print(palabras_todas)"
   ]
  },
  {
   "cell_type": "code",
   "execution_count": 24,
   "id": "eea0075c",
   "metadata": {},
   "outputs": [],
   "source": [
    "# Contar las palabras de cada documento\n",
    "with open('One.txt') as texto:\n",
    "    texto_one = texto.read().lower().split()\n",
    "\n",
    "for palabra in texto_one:\n",
    "    indice_palabra = vocabulario[palabra]\n",
    "    frec_one[indice_palabra] = frec_one[indice_palabra]+1"
   ]
  },
  {
   "cell_type": "code",
   "execution_count": 25,
   "id": "5c918ab7",
   "metadata": {},
   "outputs": [
    {
     "name": "stdout",
     "output_type": "stream",
     "text": [
      "[0, 1, 1, 0, 0, 1, 0, 0, 2, 1, 1, 1, 1, 0, 1, 1, 1, 1, 0]\n"
     ]
    }
   ],
   "source": [
    "print(frec_one)"
   ]
  },
  {
   "cell_type": "code",
   "execution_count": 26,
   "id": "3a3be02c",
   "metadata": {},
   "outputs": [],
   "source": [
    "# Contar las palabras de cada documento\n",
    "with open('Two.txt') as texto:\n",
    "    texto_two = texto.read().lower().split()\n",
    "\n",
    "for palabra in texto_two:\n",
    "    indice_palabra = vocabulario[palabra]\n",
    "    frec_two[indice_palabra] = frec_two[indice_palabra]+1"
   ]
  },
  {
   "cell_type": "code",
   "execution_count": 27,
   "id": "67f80dcc",
   "metadata": {},
   "outputs": [
    {
     "name": "stdout",
     "output_type": "stream",
     "text": [
      "[1, 0, 0, 1, 1, 0, 1, 1, 0, 1, 0, 1, 1, 2, 1, 0, 3, 0, 1]\n"
     ]
    }
   ],
   "source": [
    "print(frec_two)"
   ]
  },
  {
   "cell_type": "code",
   "execution_count": 28,
   "id": "eebc1ddd",
   "metadata": {},
   "outputs": [],
   "source": [
    "import pandas as pd"
   ]
  },
  {
   "cell_type": "code",
   "execution_count": 29,
   "id": "e4420a8d",
   "metadata": {},
   "outputs": [
    {
     "data": {
      "text/html": [
       "<div>\n",
       "<style scoped>\n",
       "    .dataframe tbody tr th:only-of-type {\n",
       "        vertical-align: middle;\n",
       "    }\n",
       "\n",
       "    .dataframe tbody tr th {\n",
       "        vertical-align: top;\n",
       "    }\n",
       "\n",
       "    .dataframe thead th {\n",
       "        text-align: right;\n",
       "    }\n",
       "</style>\n",
       "<table border=\"1\" class=\"dataframe\">\n",
       "  <thead>\n",
       "    <tr style=\"text-align: right;\">\n",
       "      <th></th>\n",
       "      <th>fun</th>\n",
       "      <th>furry</th>\n",
       "      <th>are</th>\n",
       "      <th>popular</th>\n",
       "      <th>water</th>\n",
       "      <th>our</th>\n",
       "      <th>sport</th>\n",
       "      <th>waves</th>\n",
       "      <th>dogs</th>\n",
       "      <th>story</th>\n",
       "      <th>pets</th>\n",
       "      <th>this</th>\n",
       "      <th>about</th>\n",
       "      <th>surfing</th>\n",
       "      <th>a</th>\n",
       "      <th>canine</th>\n",
       "      <th>is</th>\n",
       "      <th>animals</th>\n",
       "      <th>catching</th>\n",
       "    </tr>\n",
       "  </thead>\n",
       "  <tbody>\n",
       "    <tr>\n",
       "      <th>0</th>\n",
       "      <td>0</td>\n",
       "      <td>1</td>\n",
       "      <td>1</td>\n",
       "      <td>0</td>\n",
       "      <td>0</td>\n",
       "      <td>1</td>\n",
       "      <td>0</td>\n",
       "      <td>0</td>\n",
       "      <td>2</td>\n",
       "      <td>1</td>\n",
       "      <td>1</td>\n",
       "      <td>1</td>\n",
       "      <td>1</td>\n",
       "      <td>0</td>\n",
       "      <td>1</td>\n",
       "      <td>1</td>\n",
       "      <td>1</td>\n",
       "      <td>1</td>\n",
       "      <td>0</td>\n",
       "    </tr>\n",
       "    <tr>\n",
       "      <th>1</th>\n",
       "      <td>1</td>\n",
       "      <td>0</td>\n",
       "      <td>0</td>\n",
       "      <td>1</td>\n",
       "      <td>1</td>\n",
       "      <td>0</td>\n",
       "      <td>1</td>\n",
       "      <td>1</td>\n",
       "      <td>0</td>\n",
       "      <td>1</td>\n",
       "      <td>0</td>\n",
       "      <td>1</td>\n",
       "      <td>1</td>\n",
       "      <td>2</td>\n",
       "      <td>1</td>\n",
       "      <td>0</td>\n",
       "      <td>3</td>\n",
       "      <td>0</td>\n",
       "      <td>1</td>\n",
       "    </tr>\n",
       "  </tbody>\n",
       "</table>\n",
       "</div>"
      ],
      "text/plain": [
       "   fun  furry  are  popular  water  our  sport  waves  dogs  story  pets  \\\n",
       "0    0      1    1        0      0    1      0      0     2      1     1   \n",
       "1    1      0    0        1      1    0      1      1     0      1     0   \n",
       "\n",
       "   this  about  surfing  a  canine  is  animals  catching  \n",
       "0     1      1        0  1       1   1        1         0  \n",
       "1     1      1        2  1       0   3        0         1  "
      ]
     },
     "execution_count": 29,
     "metadata": {},
     "output_type": "execute_result"
    }
   ],
   "source": [
    "pd.DataFrame(data=[frec_one,frec_two],columns=palabras_todas)"
   ]
  },
  {
   "cell_type": "markdown",
   "id": "bf42df95",
   "metadata": {},
   "source": [
    "## Extracción con herramientas scikit_learn"
   ]
  },
  {
   "cell_type": "code",
   "execution_count": 30,
   "id": "c1e23e65",
   "metadata": {},
   "outputs": [],
   "source": [
    "texto = ['This is a line',\n",
    "        'This is another line',\n",
    "        'Completely different line']"
   ]
  },
  {
   "cell_type": "code",
   "execution_count": 31,
   "id": "08ea44ce",
   "metadata": {},
   "outputs": [],
   "source": [
    "from sklearn.feature_extraction.text import TfidfTransformer\n",
    "from sklearn.feature_extraction.text import TfidfVectorizer\n",
    "from sklearn.feature_extraction.text import CountVectorizer"
   ]
  },
  {
   "cell_type": "code",
   "execution_count": 32,
   "id": "f88cc64f",
   "metadata": {},
   "outputs": [],
   "source": [
    "vc = CountVectorizer()"
   ]
  },
  {
   "cell_type": "code",
   "execution_count": 33,
   "id": "934a201e",
   "metadata": {},
   "outputs": [
    {
     "data": {
      "text/plain": [
       "<3x6 sparse matrix of type '<class 'numpy.int64'>'\n",
       "\twith 10 stored elements in Compressed Sparse Row format>"
      ]
     },
     "execution_count": 33,
     "metadata": {},
     "output_type": "execute_result"
    }
   ],
   "source": [
    "vc.fit_transform(texto)"
   ]
  },
  {
   "cell_type": "code",
   "execution_count": 34,
   "id": "bba2a750",
   "metadata": {},
   "outputs": [],
   "source": [
    "mat_disp = vc.fit_transform(texto)"
   ]
  },
  {
   "cell_type": "code",
   "execution_count": 35,
   "id": "c85a3c5d",
   "metadata": {},
   "outputs": [
    {
     "data": {
      "text/plain": [
       "<3x6 sparse matrix of type '<class 'numpy.int64'>'\n",
       "\twith 10 stored elements in Compressed Sparse Row format>"
      ]
     },
     "execution_count": 35,
     "metadata": {},
     "output_type": "execute_result"
    }
   ],
   "source": [
    "mat_disp"
   ]
  },
  {
   "cell_type": "code",
   "execution_count": 36,
   "id": "41cd733d",
   "metadata": {},
   "outputs": [
    {
     "data": {
      "text/plain": [
       "matrix([[0, 0, 0, 1, 1, 1],\n",
       "        [1, 0, 0, 1, 1, 1],\n",
       "        [0, 1, 1, 0, 1, 0]], dtype=int64)"
      ]
     },
     "execution_count": 36,
     "metadata": {},
     "output_type": "execute_result"
    }
   ],
   "source": [
    "mat_disp.todense()"
   ]
  },
  {
   "cell_type": "code",
   "execution_count": 37,
   "id": "42d4d536",
   "metadata": {},
   "outputs": [
    {
     "data": {
      "text/plain": [
       "{'this': 5, 'is': 3, 'line': 4, 'another': 0, 'completely': 1, 'different': 2}"
      ]
     },
     "execution_count": 37,
     "metadata": {},
     "output_type": "execute_result"
    }
   ],
   "source": [
    "vc.vocabulary_"
   ]
  },
  {
   "cell_type": "markdown",
   "id": "05306785",
   "metadata": {},
   "source": [
    "Con stop words"
   ]
  },
  {
   "cell_type": "code",
   "execution_count": 38,
   "id": "6f8a4469",
   "metadata": {},
   "outputs": [],
   "source": [
    "vc = CountVectorizer(stop_words='english')"
   ]
  },
  {
   "cell_type": "code",
   "execution_count": 39,
   "id": "3fca1406",
   "metadata": {},
   "outputs": [
    {
     "data": {
      "text/plain": [
       "matrix([[0, 0, 1],\n",
       "        [0, 0, 1],\n",
       "        [1, 1, 1]], dtype=int64)"
      ]
     },
     "execution_count": 39,
     "metadata": {},
     "output_type": "execute_result"
    }
   ],
   "source": [
    "vc.fit_transform(texto).todense()"
   ]
  },
  {
   "cell_type": "code",
   "execution_count": 40,
   "id": "bca7e7a8",
   "metadata": {},
   "outputs": [
    {
     "data": {
      "text/plain": [
       "{'line': 2, 'completely': 0, 'different': 1}"
      ]
     },
     "execution_count": 40,
     "metadata": {},
     "output_type": "execute_result"
    }
   ],
   "source": [
    "vc.vocabulary_"
   ]
  },
  {
   "cell_type": "markdown",
   "id": "395feefd",
   "metadata": {},
   "source": [
    "Uso de TfidfTransformer"
   ]
  },
  {
   "cell_type": "code",
   "execution_count": 41,
   "id": "a389ae9d",
   "metadata": {},
   "outputs": [],
   "source": [
    "transformador_tfidf = TfidfTransformer()"
   ]
  },
  {
   "cell_type": "code",
   "execution_count": 42,
   "id": "52526c6a",
   "metadata": {},
   "outputs": [],
   "source": [
    "vc = CountVectorizer()"
   ]
  },
  {
   "cell_type": "code",
   "execution_count": 43,
   "id": "dd4bd023",
   "metadata": {},
   "outputs": [],
   "source": [
    "conteo = vc.fit_transform(texto)"
   ]
  },
  {
   "cell_type": "code",
   "execution_count": 44,
   "id": "4192a4cb",
   "metadata": {},
   "outputs": [
    {
     "data": {
      "text/plain": [
       "<3x6 sparse matrix of type '<class 'numpy.int64'>'\n",
       "\twith 10 stored elements in Compressed Sparse Row format>"
      ]
     },
     "execution_count": 44,
     "metadata": {},
     "output_type": "execute_result"
    }
   ],
   "source": [
    "conteo"
   ]
  },
  {
   "cell_type": "code",
   "execution_count": 45,
   "id": "685529f3",
   "metadata": {},
   "outputs": [
    {
     "data": {
      "text/plain": [
       "matrix([[0, 0, 0, 1, 1, 1],\n",
       "        [1, 0, 0, 1, 1, 1],\n",
       "        [0, 1, 1, 0, 1, 0]], dtype=int64)"
      ]
     },
     "execution_count": 45,
     "metadata": {},
     "output_type": "execute_result"
    }
   ],
   "source": [
    "conteo.todense()"
   ]
  },
  {
   "cell_type": "code",
   "execution_count": 46,
   "id": "550a2875",
   "metadata": {},
   "outputs": [],
   "source": [
    "tfidf = transformador_tfidf.fit_transform(conteo)"
   ]
  },
  {
   "cell_type": "code",
   "execution_count": 47,
   "id": "83371271",
   "metadata": {},
   "outputs": [
    {
     "data": {
      "text/plain": [
       "<3x6 sparse matrix of type '<class 'numpy.float64'>'\n",
       "\twith 10 stored elements in Compressed Sparse Row format>"
      ]
     },
     "execution_count": 47,
     "metadata": {},
     "output_type": "execute_result"
    }
   ],
   "source": [
    "tfidf"
   ]
  },
  {
   "cell_type": "code",
   "execution_count": 48,
   "id": "eaa232df",
   "metadata": {},
   "outputs": [
    {
     "data": {
      "text/plain": [
       "matrix([[0.        , 0.        , 0.        , 0.61980538, 0.48133417,\n",
       "         0.61980538],\n",
       "        [0.63174505, 0.        , 0.        , 0.4804584 , 0.37311881,\n",
       "         0.4804584 ],\n",
       "        [0.        , 0.65249088, 0.65249088, 0.        , 0.38537163,\n",
       "         0.        ]])"
      ]
     },
     "execution_count": 48,
     "metadata": {},
     "output_type": "execute_result"
    }
   ],
   "source": [
    "tfidf.todense()"
   ]
  },
  {
   "cell_type": "code",
   "execution_count": 49,
   "id": "f550e598",
   "metadata": {},
   "outputs": [
    {
     "data": {
      "text/plain": [
       "{'this': 5, 'is': 3, 'line': 4, 'another': 0, 'completely': 1, 'different': 2}"
      ]
     },
     "execution_count": 49,
     "metadata": {},
     "output_type": "execute_result"
    }
   ],
   "source": [
    "vc.vocabulary_"
   ]
  }
 ],
 "metadata": {
  "kernelspec": {
   "display_name": "Python 3 (ipykernel)",
   "language": "python",
   "name": "python3"
  },
  "language_info": {
   "codemirror_mode": {
    "name": "ipython",
    "version": 3
   },
   "file_extension": ".py",
   "mimetype": "text/x-python",
   "name": "python",
   "nbconvert_exporter": "python",
   "pygments_lexer": "ipython3",
   "version": "3.12.4"
  }
 },
 "nbformat": 4,
 "nbformat_minor": 5
}
