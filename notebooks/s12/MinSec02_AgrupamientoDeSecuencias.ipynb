{
 "cells": [
  {
   "cell_type": "markdown",
   "metadata": {
    "id": "G_r47u7QWBg3"
   },
   "source": [
    "# Agrupamiento de Secuencias\n",
    "Se muestra cómo realizar el agrupamiento de secuencias de visitas a páginas web. Usaremos el algoritmo K-means adaptado para manejar secuencias, empleando la distancia de Levenshtein como medida de similitud entre secuencias. Este ejemplo es simplificado y asume que las secuencias ya están preprocesadas y codificadas como listas de enteros."
   ]
  },
  {
   "cell_type": "code",
   "execution_count": 2,
   "metadata": {
    "colab": {
     "base_uri": "https://localhost:8080/"
    },
    "id": "Z3P2FYFEXSCe",
    "outputId": "a69f8292-3d95-4fd6-d776-56402b3b0c4c"
   },
   "outputs": [
    {
     "name": "stdout",
     "output_type": "stream",
     "text": [
      "Collecting Levenshtein\n",
      "  Obtaining dependency information for Levenshtein from https://files.pythonhosted.org/packages/47/19/4528246e25bb79fa8d4adae6640251c613f05eb310d79307d1ac53c7bf28/Levenshtein-0.25.1-cp311-cp311-win_amd64.whl.metadata\n",
      "  Downloading Levenshtein-0.25.1-cp311-cp311-win_amd64.whl.metadata (3.4 kB)\n",
      "Collecting rapidfuzz<4.0.0,>=3.8.0 (from Levenshtein)\n",
      "  Obtaining dependency information for rapidfuzz<4.0.0,>=3.8.0 from https://files.pythonhosted.org/packages/04/10/2c0ef45d4ace8dde87cfb91e48fb5c9976f8e01a57eb3230d90b82801dc5/rapidfuzz-3.9.3-cp311-cp311-win_amd64.whl.metadata\n",
      "  Downloading rapidfuzz-3.9.3-cp311-cp311-win_amd64.whl.metadata (12 kB)\n",
      "Downloading Levenshtein-0.25.1-cp311-cp311-win_amd64.whl (98 kB)\n",
      "   ---------------------------------------- 0.0/98.4 kB ? eta -:--:--\n",
      "   ---- ----------------------------------- 10.2/98.4 kB ? eta -:--:--\n",
      "   ------------ --------------------------- 30.7/98.4 kB 217.9 kB/s eta 0:00:01\n",
      "   ---------------- ----------------------- 41.0/98.4 kB 279.3 kB/s eta 0:00:01\n",
      "   --------------------------------- ------ 81.9/98.4 kB 416.7 kB/s eta 0:00:01\n",
      "   --------------------------------- ------ 81.9/98.4 kB 416.7 kB/s eta 0:00:01\n",
      "   ---------------------------------------- 98.4/98.4 kB 352.5 kB/s eta 0:00:00\n",
      "Downloading rapidfuzz-3.9.3-cp311-cp311-win_amd64.whl (1.7 MB)\n",
      "   ---------------------------------------- 0.0/1.7 MB ? eta -:--:--\n",
      "    --------------------------------------- 0.0/1.7 MB 1.3 MB/s eta 0:00:02\n",
      "   - -------------------------------------- 0.1/1.7 MB 787.7 kB/s eta 0:00:03\n",
      "   -- ------------------------------------- 0.1/1.7 MB 655.4 kB/s eta 0:00:03\n",
      "   -- ------------------------------------- 0.1/1.7 MB 655.4 kB/s eta 0:00:03\n",
      "   -- ------------------------------------- 0.1/1.7 MB 655.4 kB/s eta 0:00:03\n",
      "   -- ------------------------------------- 0.1/1.7 MB 385.0 kB/s eta 0:00:04\n",
      "   -- ------------------------------------- 0.1/1.7 MB 379.3 kB/s eta 0:00:05\n",
      "   -- ------------------------------------- 0.1/1.7 MB 379.3 kB/s eta 0:00:05\n",
      "   -- ------------------------------------- 0.1/1.7 MB 379.3 kB/s eta 0:00:05\n",
      "   -- ------------------------------------- 0.1/1.7 MB 379.3 kB/s eta 0:00:05\n",
      "   ---- ----------------------------------- 0.2/1.7 MB 406.9 kB/s eta 0:00:04\n",
      "   ---- ----------------------------------- 0.2/1.7 MB 406.9 kB/s eta 0:00:04\n",
      "   ----- ---------------------------------- 0.2/1.7 MB 389.8 kB/s eta 0:00:04\n",
      "   ------ --------------------------------- 0.3/1.7 MB 413.7 kB/s eta 0:00:04\n",
      "   ------ --------------------------------- 0.3/1.7 MB 431.3 kB/s eta 0:00:04\n",
      "   ------- -------------------------------- 0.3/1.7 MB 422.4 kB/s eta 0:00:04\n",
      "   ------- -------------------------------- 0.3/1.7 MB 422.4 kB/s eta 0:00:04\n",
      "   ------- -------------------------------- 0.3/1.7 MB 422.4 kB/s eta 0:00:04\n",
      "   -------- ------------------------------- 0.4/1.7 MB 412.5 kB/s eta 0:00:04\n",
      "   -------- ------------------------------- 0.4/1.7 MB 412.5 kB/s eta 0:00:04\n",
      "   -------- ------------------------------- 0.4/1.7 MB 376.1 kB/s eta 0:00:04\n",
      "   -------- ------------------------------- 0.4/1.7 MB 376.1 kB/s eta 0:00:04\n",
      "   -------- ------------------------------- 0.4/1.7 MB 376.1 kB/s eta 0:00:04\n",
      "   ---------- ----------------------------- 0.4/1.7 MB 399.0 kB/s eta 0:00:04\n",
      "   ---------- ----------------------------- 0.4/1.7 MB 399.0 kB/s eta 0:00:04\n",
      "   ----------- ---------------------------- 0.5/1.7 MB 393.2 kB/s eta 0:00:04\n",
      "   ----------- ---------------------------- 0.5/1.7 MB 386.4 kB/s eta 0:00:04\n",
      "   ------------ --------------------------- 0.5/1.7 MB 393.2 kB/s eta 0:00:03\n",
      "   ------------ --------------------------- 0.5/1.7 MB 394.8 kB/s eta 0:00:03\n",
      "   ------------ --------------------------- 0.5/1.7 MB 394.8 kB/s eta 0:00:03\n",
      "   ------------- -------------------------- 0.6/1.7 MB 386.0 kB/s eta 0:00:03\n",
      "   ------------- -------------------------- 0.6/1.7 MB 376.4 kB/s eta 0:00:03\n",
      "   ------------- -------------------------- 0.6/1.7 MB 376.4 kB/s eta 0:00:03\n",
      "   ------------- -------------------------- 0.6/1.7 MB 376.4 kB/s eta 0:00:03\n",
      "   -------------- ------------------------- 0.6/1.7 MB 366.9 kB/s eta 0:00:03\n",
      "   -------------- ------------------------- 0.6/1.7 MB 365.5 kB/s eta 0:00:03\n",
      "   -------------- ------------------------- 0.6/1.7 MB 361.3 kB/s eta 0:00:03\n",
      "   --------------- ------------------------ 0.6/1.7 MB 360.2 kB/s eta 0:00:03\n",
      "   --------------- ------------------------ 0.6/1.7 MB 360.2 kB/s eta 0:00:03\n",
      "   ---------------- ----------------------- 0.7/1.7 MB 361.5 kB/s eta 0:00:03\n",
      "   ---------------- ----------------------- 0.7/1.7 MB 361.5 kB/s eta 0:00:03\n",
      "   ----------------- ---------------------- 0.7/1.7 MB 370.7 kB/s eta 0:00:03\n",
      "   ----------------- ---------------------- 0.7/1.7 MB 370.7 kB/s eta 0:00:03\n",
      "   ----------------- ---------------------- 0.7/1.7 MB 358.4 kB/s eta 0:00:03\n",
      "   ----------------- ---------------------- 0.7/1.7 MB 358.4 kB/s eta 0:00:03\n",
      "   ----------------- ---------------------- 0.7/1.7 MB 358.4 kB/s eta 0:00:03\n",
      "   ------------------ --------------------- 0.7/1.7 MB 344.4 kB/s eta 0:00:03\n",
      "   ------------------ --------------------- 0.7/1.7 MB 344.4 kB/s eta 0:00:03\n",
      "   ------------------ --------------------- 0.7/1.7 MB 344.4 kB/s eta 0:00:03\n",
      "   ------------------ --------------------- 0.7/1.7 MB 344.4 kB/s eta 0:00:03\n",
      "   ------------------ --------------------- 0.7/1.7 MB 344.4 kB/s eta 0:00:03\n",
      "   ------------------- -------------------- 0.8/1.7 MB 340.8 kB/s eta 0:00:03\n",
      "   -------------------- ------------------- 0.8/1.7 MB 340.5 kB/s eta 0:00:03\n",
      "   -------------------- ------------------- 0.8/1.7 MB 340.5 kB/s eta 0:00:03\n",
      "   -------------------- ------------------- 0.9/1.7 MB 337.8 kB/s eta 0:00:03\n",
      "   -------------------- ------------------- 0.9/1.7 MB 337.8 kB/s eta 0:00:03\n",
      "   -------------------- ------------------- 0.9/1.7 MB 337.8 kB/s eta 0:00:03\n",
      "   -------------------- ------------------- 0.9/1.7 MB 337.8 kB/s eta 0:00:03\n",
      "   -------------------- ------------------- 0.9/1.7 MB 337.8 kB/s eta 0:00:03\n",
      "   -------------------- ------------------- 0.9/1.7 MB 337.8 kB/s eta 0:00:03\n",
      "   --------------------- ------------------ 0.9/1.7 MB 313.0 kB/s eta 0:00:03\n",
      "   --------------------- ------------------ 0.9/1.7 MB 313.0 kB/s eta 0:00:03\n",
      "   --------------------- ------------------ 0.9/1.7 MB 313.0 kB/s eta 0:00:03\n",
      "   --------------------- ------------------ 0.9/1.7 MB 313.0 kB/s eta 0:00:03\n",
      "   --------------------- ------------------ 0.9/1.7 MB 313.0 kB/s eta 0:00:03\n",
      "   --------------------- ------------------ 0.9/1.7 MB 313.0 kB/s eta 0:00:03\n",
      "   --------------------- ------------------ 0.9/1.7 MB 313.0 kB/s eta 0:00:03\n",
      "   --------------------- ------------------ 0.9/1.7 MB 313.0 kB/s eta 0:00:03\n",
      "   ---------------------- ----------------- 0.9/1.7 MB 296.7 kB/s eta 0:00:03\n",
      "   ----------------------- ---------------- 1.0/1.7 MB 297.3 kB/s eta 0:00:03\n",
      "   ----------------------- ---------------- 1.0/1.7 MB 297.3 kB/s eta 0:00:03\n",
      "   ----------------------- ---------------- 1.0/1.7 MB 297.3 kB/s eta 0:00:03\n",
      "   ----------------------- ---------------- 1.0/1.7 MB 289.2 kB/s eta 0:00:03\n",
      "   ------------------------ --------------- 1.0/1.7 MB 291.3 kB/s eta 0:00:03\n",
      "   ------------------------ --------------- 1.0/1.7 MB 291.3 kB/s eta 0:00:03\n",
      "   ------------------------ --------------- 1.0/1.7 MB 289.3 kB/s eta 0:00:03\n",
      "   ------------------------ --------------- 1.0/1.7 MB 289.3 kB/s eta 0:00:03\n",
      "   ------------------------ --------------- 1.0/1.7 MB 283.3 kB/s eta 0:00:03\n",
      "   ------------------------- -------------- 1.0/1.7 MB 284.1 kB/s eta 0:00:03\n",
      "   ------------------------- -------------- 1.1/1.7 MB 283.2 kB/s eta 0:00:03\n",
      "   ------------------------- -------------- 1.1/1.7 MB 283.2 kB/s eta 0:00:03\n",
      "   -------------------------- ------------- 1.1/1.7 MB 285.2 kB/s eta 0:00:03\n",
      "   -------------------------- ------------- 1.1/1.7 MB 285.9 kB/s eta 0:00:02\n",
      "   -------------------------- ------------- 1.1/1.7 MB 285.0 kB/s eta 0:00:02\n",
      "   -------------------------- ------------- 1.1/1.7 MB 285.0 kB/s eta 0:00:02\n",
      "   --------------------------- ------------ 1.1/1.7 MB 283.4 kB/s eta 0:00:02\n",
      "   --------------------------- ------------ 1.1/1.7 MB 283.8 kB/s eta 0:00:02\n",
      "   ---------------------------- ----------- 1.2/1.7 MB 283.4 kB/s eta 0:00:02\n",
      "   ---------------------------- ----------- 1.2/1.7 MB 283.4 kB/s eta 0:00:02\n",
      "   ---------------------------- ----------- 1.2/1.7 MB 284.1 kB/s eta 0:00:02\n",
      "   ---------------------------- ----------- 1.2/1.7 MB 284.1 kB/s eta 0:00:02\n",
      "   ---------------------------- ----------- 1.2/1.7 MB 281.2 kB/s eta 0:00:02\n",
      "   ----------------------------- ---------- 1.2/1.7 MB 284.3 kB/s eta 0:00:02\n",
      "   ----------------------------- ---------- 1.2/1.7 MB 284.3 kB/s eta 0:00:02\n",
      "   ------------------------------ --------- 1.2/1.7 MB 280.9 kB/s eta 0:00:02\n",
      "   ------------------------------ --------- 1.2/1.7 MB 280.9 kB/s eta 0:00:02\n",
      "   ------------------------------ --------- 1.3/1.7 MB 280.5 kB/s eta 0:00:02\n",
      "   ------------------------------ --------- 1.3/1.7 MB 278.9 kB/s eta 0:00:02\n",
      "   ------------------------------ --------- 1.3/1.7 MB 278.9 kB/s eta 0:00:02\n",
      "   ------------------------------- -------- 1.3/1.7 MB 280.5 kB/s eta 0:00:02\n",
      "   ------------------------------- -------- 1.3/1.7 MB 280.5 kB/s eta 0:00:02\n",
      "   ------------------------------- -------- 1.3/1.7 MB 278.7 kB/s eta 0:00:02\n",
      "   ------------------------------- -------- 1.3/1.7 MB 278.7 kB/s eta 0:00:02\n",
      "   ------------------------------- -------- 1.3/1.7 MB 278.7 kB/s eta 0:00:02\n",
      "   -------------------------------- ------- 1.3/1.7 MB 277.5 kB/s eta 0:00:02\n",
      "   -------------------------------- ------- 1.4/1.7 MB 275.2 kB/s eta 0:00:02\n",
      "   --------------------------------- ------ 1.4/1.7 MB 276.7 kB/s eta 0:00:02\n",
      "   --------------------------------- ------ 1.4/1.7 MB 277.0 kB/s eta 0:00:01\n",
      "   --------------------------------- ------ 1.4/1.7 MB 278.5 kB/s eta 0:00:01\n",
      "   ---------------------------------- ----- 1.4/1.7 MB 281.1 kB/s eta 0:00:01\n",
      "   ----------------------------------- ---- 1.5/1.7 MB 283.4 kB/s eta 0:00:01\n",
      "   ----------------------------------- ---- 1.5/1.7 MB 283.4 kB/s eta 0:00:01\n",
      "   ----------------------------------- ---- 1.5/1.7 MB 279.5 kB/s eta 0:00:01\n",
      "   ----------------------------------- ---- 1.5/1.7 MB 279.5 kB/s eta 0:00:01\n",
      "   ----------------------------------- ---- 1.5/1.7 MB 278.4 kB/s eta 0:00:01\n",
      "   ------------------------------------ --- 1.5/1.7 MB 280.6 kB/s eta 0:00:01\n",
      "   ------------------------------------ --- 1.5/1.7 MB 280.6 kB/s eta 0:00:01\n",
      "   ------------------------------------ --- 1.5/1.7 MB 280.6 kB/s eta 0:00:01\n",
      "   ------------------------------------ --- 1.5/1.7 MB 280.6 kB/s eta 0:00:01\n",
      "   ------------------------------------ --- 1.5/1.7 MB 280.6 kB/s eta 0:00:01\n",
      "   ------------------------------------ --- 1.5/1.7 MB 280.6 kB/s eta 0:00:01\n",
      "   ------------------------------------ --- 1.5/1.7 MB 280.6 kB/s eta 0:00:01\n",
      "   ------------------------------------ --- 1.5/1.7 MB 280.6 kB/s eta 0:00:01\n",
      "   ------------------------------------ --- 1.5/1.7 MB 280.6 kB/s eta 0:00:01\n",
      "   ------------------------------------- -- 1.6/1.7 MB 270.7 kB/s eta 0:00:01\n",
      "   ------------------------------------- -- 1.6/1.7 MB 270.7 kB/s eta 0:00:01\n",
      "   ------------------------------------- -- 1.6/1.7 MB 270.7 kB/s eta 0:00:01\n",
      "   -------------------------------------- - 1.6/1.7 MB 268.4 kB/s eta 0:00:01\n",
      "   -------------------------------------- - 1.6/1.7 MB 268.0 kB/s eta 0:00:01\n",
      "   -------------------------------------- - 1.6/1.7 MB 268.0 kB/s eta 0:00:01\n",
      "   ---------------------------------------  1.6/1.7 MB 267.9 kB/s eta 0:00:01\n",
      "   ---------------------------------------  1.6/1.7 MB 267.6 kB/s eta 0:00:01\n",
      "   ---------------------------------------- 1.7/1.7 MB 267.9 kB/s eta 0:00:00\n",
      "Installing collected packages: rapidfuzz, Levenshtein\n",
      "Successfully installed Levenshtein-0.25.1 rapidfuzz-3.9.3\n"
     ]
    }
   ],
   "source": [
    "!pip install Levenshtein"
   ]
  },
  {
   "cell_type": "code",
   "execution_count": 3,
   "metadata": {
    "id": "RAFxep9GVxF3"
   },
   "outputs": [],
   "source": [
    "import numpy as np\n",
    "from sklearn.cluster import KMeans\n",
    "from sklearn.metrics import pairwise_distances\n",
    "import Levenshtein"
   ]
  },
  {
   "cell_type": "markdown",
   "metadata": {
    "id": "GIH1H0-pgYNN"
   },
   "source": [
    "### Función de Distancia de Levenshtein:\n",
    "Esta función calcula la matriz de distancias entre todas las secuencias, utilizando la distancia de Levenshtein."
   ]
  },
  {
   "cell_type": "code",
   "execution_count": 4,
   "metadata": {
    "id": "z72mzqFJX-NW"
   },
   "outputs": [],
   "source": [
    "# Función para calcular la matriz de distancias basada en la distancia de Levenshtein\n",
    "def levenshtein_distance_matrix(sequences):\n",
    "    n = len(sequences)\n",
    "    distances = np.zeros((n, n))\n",
    "    for i in range(n):\n",
    "        for j in range(i + 1, n):\n",
    "            dist = Levenshtein.distance(''.join(map(str, sequences[i])), ''.join(map(str, sequences[j])))\n",
    "            distances[i, j] = dist\n",
    "            distances[j, i] = dist\n",
    "    return distances"
   ]
  },
  {
   "cell_type": "code",
   "execution_count": 5,
   "metadata": {
    "id": "7D3hv8K-ZYIH"
   },
   "outputs": [],
   "source": [
    "# Datos de ejemplo: secuencias de páginas visitadas (cada número representa una página diferente)\n",
    "sequences = [\n",
    "    [1, 2, 3, 4],\n",
    "    [1, 2, 4, 3],\n",
    "    [1, 3],\n",
    "    [2, 3, 4],\n",
    "    [3, 4, 1, 2],\n",
    "    [1, 2, 3],\n",
    "    [3, 1, 2, 4],\n",
    "]"
   ]
  },
  {
   "cell_type": "code",
   "execution_count": 6,
   "metadata": {
    "id": "-cMuaviBZyHt"
   },
   "outputs": [],
   "source": [
    "# Encontrar la longitud máxima de las secuencias para rellenar las más cortas\n",
    "max_len = max(len(seq) for seq in sequences)"
   ]
  },
  {
   "cell_type": "code",
   "execution_count": 7,
   "metadata": {},
   "outputs": [
    {
     "name": "stdout",
     "output_type": "stream",
     "text": [
      "4\n"
     ]
    }
   ],
   "source": [
    "print(max_len)"
   ]
  },
  {
   "cell_type": "markdown",
   "metadata": {
    "id": "Fthu0EkwgA6c"
   },
   "source": [
    "### Relleno (Padding) de Secuencias:\n",
    "Para asegurarnos de que todas las secuencias tengan la misma longitud, rellenamos las secuencias más cortas con un valor distintivo (en este caso, -1)."
   ]
  },
  {
   "cell_type": "code",
   "execution_count": 8,
   "metadata": {
    "id": "poeJtuFsZr5l"
   },
   "outputs": [],
   "source": [
    "# Rellenar (padding) las secuencias más cortas con un valor distintivo (por ejemplo, -1)\n",
    "padded_sequences = [seq + [-1] * (max_len - len(seq)) for seq in sequences]"
   ]
  },
  {
   "cell_type": "code",
   "execution_count": 9,
   "metadata": {},
   "outputs": [
    {
     "data": {
      "text/plain": [
       "[[1, 2, 3, 4],\n",
       " [1, 2, 4, 3],\n",
       " [1, 3, -1, -1],\n",
       " [2, 3, 4, -1],\n",
       " [3, 4, 1, 2],\n",
       " [1, 2, 3, -1],\n",
       " [3, 1, 2, 4]]"
      ]
     },
     "execution_count": 9,
     "metadata": {},
     "output_type": "execute_result"
    }
   ],
   "source": [
    "padded_sequences"
   ]
  },
  {
   "cell_type": "markdown",
   "metadata": {
    "id": "tLOM4l_qf2lU"
   },
   "source": [
    "### Matriz de Distancias:\n",
    "Se calcula la matriz de distancias para las secuencias rellenadas."
   ]
  },
  {
   "cell_type": "code",
   "execution_count": 10,
   "metadata": {
    "id": "1m4hbtEhe2zm"
   },
   "outputs": [],
   "source": [
    "# Calcular la matriz de distancias personalizada\n",
    "dist_matrix = levenshtein_distance_matrix(padded_sequences)"
   ]
  },
  {
   "cell_type": "code",
   "execution_count": 11,
   "metadata": {},
   "outputs": [
    {
     "data": {
      "text/plain": [
       "array([[0., 2., 5., 3., 4., 2., 2.],\n",
       "       [2., 0., 5., 4., 4., 3., 2.],\n",
       "       [5., 5., 0., 3., 4., 3., 4.],\n",
       "       [3., 4., 3., 0., 3., 2., 4.],\n",
       "       [4., 4., 4., 3., 0., 4., 2.],\n",
       "       [2., 3., 3., 2., 4., 0., 4.],\n",
       "       [2., 2., 4., 4., 2., 4., 0.]])"
      ]
     },
     "execution_count": 11,
     "metadata": {},
     "output_type": "execute_result"
    }
   ],
   "source": [
    "dist_matrix"
   ]
  },
  {
   "cell_type": "markdown",
   "metadata": {
    "id": "eE5-ID4cfvR9"
   },
   "source": [
    "### K-means:\n",
    "Se aplica el algoritmo K-means utilizando la matriz de distancias como entrada para agrupar las secuencias en clústeres."
   ]
  },
  {
   "cell_type": "code",
   "execution_count": 12,
   "metadata": {
    "colab": {
     "base_uri": "https://localhost:8080/"
    },
    "id": "JJk-WGhZe9MG",
    "outputId": "3d87c7f8-8f2a-45b8-d13e-7c486a5b018e"
   },
   "outputs": [
    {
     "name": "stderr",
     "output_type": "stream",
     "text": [
      "C:\\Users\\Juan\\anaconda3\\Lib\\site-packages\\sklearn\\cluster\\_kmeans.py:1412: FutureWarning: The default value of `n_init` will change from 10 to 'auto' in 1.4. Set the value of `n_init` explicitly to suppress the warning\n",
      "  super()._check_params_vs_input(X, default_n_init=10)\n",
      "C:\\Users\\Juan\\anaconda3\\Lib\\site-packages\\sklearn\\cluster\\_kmeans.py:1436: UserWarning: KMeans is known to have a memory leak on Windows with MKL, when there are less chunks than available threads. You can avoid it by setting the environment variable OMP_NUM_THREADS=1.\n",
      "  warnings.warn(\n"
     ]
    }
   ],
   "source": [
    "# Aplicar K-means con la matriz de distancias personalizada\n",
    "n_clusters = 3\n",
    "kmeans = KMeans(n_clusters=n_clusters, random_state=42)\n",
    "clusters = kmeans.fit_predict(dist_matrix)"
   ]
  },
  {
   "cell_type": "markdown",
   "metadata": {
    "id": "Xa9NLSlQffFV"
   },
   "source": [
    "### Resultados:\n",
    "Se imprimen los clústeres asignados a cada secuencia original."
   ]
  },
  {
   "cell_type": "code",
   "execution_count": 13,
   "metadata": {
    "colab": {
     "base_uri": "https://localhost:8080/"
    },
    "id": "aqkdkIhJfD4O",
    "outputId": "1174ff58-4871-4285-8756-e7ee015e0aab"
   },
   "outputs": [
    {
     "name": "stdout",
     "output_type": "stream",
     "text": [
      "Secuencia 1: [1, 2, 3, 4] -> Clúster 2\n",
      "Secuencia 2: [1, 2, 4, 3] -> Clúster 2\n",
      "Secuencia 3: [1, 3] -> Clúster 1\n",
      "Secuencia 4: [2, 3, 4] -> Clúster 1\n",
      "Secuencia 5: [3, 4, 1, 2] -> Clúster 0\n",
      "Secuencia 6: [1, 2, 3] -> Clúster 1\n",
      "Secuencia 7: [3, 1, 2, 4] -> Clúster 0\n"
     ]
    }
   ],
   "source": [
    "# Mostrar los clústeres asignados a cada secuencia\n",
    "for idx, cluster in enumerate(clusters):\n",
    "    print(f'Secuencia {idx + 1}: {sequences[idx]} -> Clúster {cluster}')"
   ]
  }
 ],
 "metadata": {
  "colab": {
   "provenance": []
  },
  "kernelspec": {
   "display_name": "Python 3 (ipykernel)",
   "language": "python",
   "name": "python3"
  },
  "language_info": {
   "codemirror_mode": {
    "name": "ipython",
    "version": 3
   },
   "file_extension": ".py",
   "mimetype": "text/x-python",
   "name": "python",
   "nbconvert_exporter": "python",
   "pygments_lexer": "ipython3",
   "version": "3.11.4"
  }
 },
 "nbformat": 4,
 "nbformat_minor": 1
}
