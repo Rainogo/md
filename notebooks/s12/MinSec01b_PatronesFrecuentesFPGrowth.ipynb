{
 "cells": [
  {
   "cell_type": "code",
   "execution_count": null,
   "id": "629fe845",
   "metadata": {
    "id": "629fe845"
   },
   "outputs": [],
   "source": [
    "# instalar la librería mlxtend una sola vez\n",
    "#!pip install mlxtend"
   ]
  },
  {
   "cell_type": "code",
   "execution_count": 1,
   "id": "55067117",
   "metadata": {
    "id": "55067117"
   },
   "outputs": [],
   "source": [
    "import pandas as pd\n",
    "from mlxtend.preprocessing import TransactionEncoder\n",
    "from mlxtend.frequent_patterns import fpgrowth, association_rules"
   ]
  },
  {
   "cell_type": "code",
   "execution_count": 2,
   "id": "68b4ecb7",
   "metadata": {
    "colab": {
     "base_uri": "https://localhost:8080/"
    },
    "id": "68b4ecb7",
    "outputId": "c986ea96-6a5a-48fd-b7bf-285dc3bae74e"
   },
   "outputs": [],
   "source": [
    "# Datos de ejemplo: una lista de transacciones, cada una con ítems comprados\n",
    "transactions = [\n",
    "    ['Leche', 'Pan'],\n",
    "    ['Pan', 'Mantequilla', 'Mermelada'],\n",
    "    ['Leche', 'Mantequilla'],\n",
    "    ['Pan', 'Mermelada'],\n",
    "    ['Leche', 'Pan', 'Mantequilla', 'Mermelada'],\n",
    "    ['Pan', 'Mermelada'],\n",
    "    ['Leche', 'Pan', 'Mermelada'],\n",
    "    ['Leche', 'Pan', 'Mantequilla'],\n",
    "]"
   ]
  },
  {
   "cell_type": "code",
   "execution_count": 3,
   "id": "f6fd1654",
   "metadata": {
    "colab": {
     "base_uri": "https://localhost:8080/"
    },
    "id": "f6fd1654",
    "outputId": "48dc9d71-583a-4ea1-803d-f6110e62ea2b"
   },
   "outputs": [],
   "source": [
    "# Codificar los datos de transacciones para el análisis\n",
    "encoder = TransactionEncoder()\n",
    "transactions_encoded = encoder.fit_transform(transactions)"
   ]
  },
  {
   "cell_type": "code",
   "execution_count": 4,
   "id": "bce45c26",
   "metadata": {},
   "outputs": [
    {
     "data": {
      "text/plain": [
       "['Leche', 'Mantequilla', 'Mermelada', 'Pan']"
      ]
     },
     "execution_count": 4,
     "metadata": {},
     "output_type": "execute_result"
    }
   ],
   "source": [
    "encoder.columns_"
   ]
  },
  {
   "cell_type": "code",
   "execution_count": 5,
   "id": "62c668be",
   "metadata": {},
   "outputs": [
    {
     "data": {
      "text/plain": [
       "array([[ True, False, False,  True],\n",
       "       [False,  True,  True,  True],\n",
       "       [ True,  True, False, False],\n",
       "       [False, False,  True,  True],\n",
       "       [ True,  True,  True,  True],\n",
       "       [False, False,  True,  True],\n",
       "       [ True, False,  True,  True],\n",
       "       [ True,  True, False,  True]])"
      ]
     },
     "execution_count": 5,
     "metadata": {},
     "output_type": "execute_result"
    }
   ],
   "source": [
    "transactions_encoded"
   ]
  },
  {
   "cell_type": "code",
   "execution_count": 6,
   "id": "aee6e46b",
   "metadata": {},
   "outputs": [
    {
     "name": "stdout",
     "output_type": "stream",
     "text": [
      "   Leche  Mantequilla  Mermelada    Pan\n",
      "0   True        False      False   True\n",
      "1  False         True       True   True\n",
      "2   True         True      False  False\n",
      "3  False        False       True   True\n",
      "4   True         True       True   True\n",
      "5  False        False       True   True\n",
      "6   True        False       True   True\n",
      "7   True         True      False   True\n"
     ]
    }
   ],
   "source": [
    "# Crear un dataframe\n",
    "df_transactions = pd.DataFrame(transactions_encoded, columns=encoder.columns_)\n",
    "print(df_transactions)"
   ]
  },
  {
   "cell_type": "code",
   "execution_count": 7,
   "id": "78dbca2e",
   "metadata": {
    "colab": {
     "base_uri": "https://localhost:8080/"
    },
    "id": "78dbca2e",
    "outputId": "557ac975-9a38-48cc-f1a7-02589b7aa752"
   },
   "outputs": [],
   "source": [
    "# Aplicar el algoritmo Apriori para encontrar conjuntos de ítems frecuentes\n",
    "frequent_itemsets = fpgrowth(df_transactions, min_support=0.3, use_colnames=True)"
   ]
  },
  {
   "cell_type": "code",
   "execution_count": 8,
   "id": "969f7a00",
   "metadata": {
    "colab": {
     "base_uri": "https://localhost:8080/"
    },
    "id": "969f7a00",
    "outputId": "f4249475-3b62-4c72-94fc-721706a7bee3"
   },
   "outputs": [
    {
     "name": "stdout",
     "output_type": "stream",
     "text": [
      "   support              itemsets\n",
      "0    0.875                 (Pan)\n",
      "1    0.625               (Leche)\n",
      "2    0.625           (Mermelada)\n",
      "3    0.500         (Mantequilla)\n",
      "4    0.500          (Leche, Pan)\n",
      "5    0.625      (Pan, Mermelada)\n",
      "6    0.375    (Mantequilla, Pan)\n",
      "7    0.375  (Leche, Mantequilla)\n"
     ]
    }
   ],
   "source": [
    "# Mostrar los conjuntos de ítems frecuentes\n",
    "print(frequent_itemsets)"
   ]
  },
  {
   "cell_type": "code",
   "execution_count": 9,
   "id": "c8d36deb",
   "metadata": {
    "colab": {
     "base_uri": "https://localhost:8080/"
    },
    "id": "c8d36deb",
    "outputId": "7b84ed18-b3ef-41fb-fe32-7e81f761aef7"
   },
   "outputs": [
    {
     "name": "stdout",
     "output_type": "stream",
     "text": [
      "     antecedents  consequents  support  confidence      lift\n",
      "0        (Leche)        (Pan)    0.500    0.800000  0.914286\n",
      "1          (Pan)  (Mermelada)    0.625    0.714286  1.142857\n",
      "2    (Mermelada)        (Pan)    0.625    1.000000  1.142857\n",
      "3  (Mantequilla)        (Pan)    0.375    0.750000  0.857143\n",
      "4  (Mantequilla)      (Leche)    0.375    0.750000  1.200000\n"
     ]
    }
   ],
   "source": [
    "# (Opcional) Reglas de asociación\n",
    "rules = association_rules(frequent_itemsets, metric='confidence', min_threshold=0.7)\n",
    "print(rules[['antecedents', 'consequents', 'support', 'confidence', 'lift']])"
   ]
  },
  {
   "cell_type": "markdown",
   "id": "1046febc",
   "metadata": {},
   "source": [
    "* Lift > 1: Los antecedentes y consecuentes están positivamente asociados. La ocurrencia de los antecedentes aumenta la probabilidad de que los consecuentes ocurran.\n",
    "* Lift < 1: Los antecedentes y consecuentes están negativamente asociados. La ocurrencia de los antecedentes disminuye la probabilidad de que los consecuentes ocurran.\n",
    "* Lift = 1: Los antecedentes y consecuentes son independientes. La ocurrencia de los antecedentes no afecta la probabilidad de que los consecuentes ocurran. Existe una asociación negativa"
   ]
  }
 ],
 "metadata": {
  "colab": {
   "provenance": []
  },
  "kernelspec": {
   "display_name": "Python 3 (ipykernel)",
   "language": "python",
   "name": "python3"
  },
  "language_info": {
   "codemirror_mode": {
    "name": "ipython",
    "version": 3
   },
   "file_extension": ".py",
   "mimetype": "text/x-python",
   "name": "python",
   "nbconvert_exporter": "python",
   "pygments_lexer": "ipython3",
   "version": "3.11.4"
  }
 },
 "nbformat": 4,
 "nbformat_minor": 5
}
