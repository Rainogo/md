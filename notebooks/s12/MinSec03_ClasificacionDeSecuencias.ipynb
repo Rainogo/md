{
  "nbformat": 4,
  "nbformat_minor": 0,
  "metadata": {
    "colab": {
      "provenance": []
    },
    "kernelspec": {
      "name": "python3",
      "display_name": "Python 3"
    },
    "language_info": {
      "name": "python"
    }
  },
  "cells": [
    {
      "cell_type": "code",
      "execution_count": 1,
      "metadata": {
        "id": "2PQaKFSLRe72"
      },
      "outputs": [],
      "source": [
        "import numpy as np\n",
        "from keras.models import Sequential\n",
        "from keras.layers import LSTM, Dense\n",
        "from tensorflow.keras.utils import to_categorical"
      ]
    },
    {
      "cell_type": "code",
      "source": [
        "# Datos de ejemplo\n",
        "# Cada secuencia representa mediciones de actividad física (por ejemplo, pasos por minuto)\n",
        "# Las etiquetas representan estados de salud: 0 para saludable y 1 para enfermo\n",
        "X = [\n",
        "    [10, 15, 10, 20, 15],  # actividad normal\n",
        "    [30, 35, 30, 40, 35],  # actividad elevada\n",
        "    [5, 5, 10, 5, 10],     # actividad reducida\n",
        "    [20, 25, 20, 30, 25],  # actividad normal alta\n",
        "    [5, 5, 5, 10, 5],      # actividad muy reducida\n",
        "    [15, 20, 15, 25, 20]   # actividad normal\n",
        "]\n",
        "y = [0, 0, 1, 0, 1, 0]  # Etiquetas de estado de salud"
      ],
      "metadata": {
        "id": "plC3VWmtSqc0"
      },
      "execution_count": 2,
      "outputs": []
    },
    {
      "cell_type": "code",
      "source": [
        "X"
      ],
      "metadata": {
        "colab": {
          "base_uri": "https://localhost:8080/"
        },
        "id": "IoZ6uRSh8Qsp",
        "outputId": "25b28687-8664-4a36-84b5-75d65c1555f6"
      },
      "execution_count": 3,
      "outputs": [
        {
          "output_type": "execute_result",
          "data": {
            "text/plain": [
              "[[10, 15, 10, 20, 15],\n",
              " [30, 35, 30, 40, 35],\n",
              " [5, 5, 10, 5, 10],\n",
              " [20, 25, 20, 30, 25],\n",
              " [5, 5, 5, 10, 5],\n",
              " [15, 20, 15, 25, 20]]"
            ]
          },
          "metadata": {},
          "execution_count": 3
        }
      ]
    },
    {
      "cell_type": "code",
      "source": [
        "# Preprocesamiento de datos\n",
        "# Ajuste de la forma de X para Keras: (número de muestras, pasos de tiempo, características)\n",
        "X = np.array(X).reshape(len(X), 5, 1)  # 5 mediciones por secuencia, 1 característica por medición"
      ],
      "metadata": {
        "id": "6EWmv7_cStJ4"
      },
      "execution_count": 4,
      "outputs": []
    },
    {
      "cell_type": "code",
      "source": [
        "X"
      ],
      "metadata": {
        "colab": {
          "base_uri": "https://localhost:8080/"
        },
        "id": "q880i6b78dlh",
        "outputId": "94132aa4-19c6-456a-e906-0b93f0abfbc9"
      },
      "execution_count": 5,
      "outputs": [
        {
          "output_type": "execute_result",
          "data": {
            "text/plain": [
              "array([[[10],\n",
              "        [15],\n",
              "        [10],\n",
              "        [20],\n",
              "        [15]],\n",
              "\n",
              "       [[30],\n",
              "        [35],\n",
              "        [30],\n",
              "        [40],\n",
              "        [35]],\n",
              "\n",
              "       [[ 5],\n",
              "        [ 5],\n",
              "        [10],\n",
              "        [ 5],\n",
              "        [10]],\n",
              "\n",
              "       [[20],\n",
              "        [25],\n",
              "        [20],\n",
              "        [30],\n",
              "        [25]],\n",
              "\n",
              "       [[ 5],\n",
              "        [ 5],\n",
              "        [ 5],\n",
              "        [10],\n",
              "        [ 5]],\n",
              "\n",
              "       [[15],\n",
              "        [20],\n",
              "        [15],\n",
              "        [25],\n",
              "        [20]]])"
            ]
          },
          "metadata": {},
          "execution_count": 5
        }
      ]
    },
    {
      "cell_type": "code",
      "source": [
        "# Convertir etiquetas y en formato categórico\n",
        "y = to_categorical(y, num_classes=2)"
      ],
      "metadata": {
        "id": "Y1lLVFfZTA_n"
      },
      "execution_count": 6,
      "outputs": []
    },
    {
      "cell_type": "code",
      "source": [
        "y"
      ],
      "metadata": {
        "colab": {
          "base_uri": "https://localhost:8080/"
        },
        "id": "Y51PCvFO81Hj",
        "outputId": "d4843b5a-a4a2-47c1-a3ac-c058ea6ddcdd"
      },
      "execution_count": 7,
      "outputs": [
        {
          "output_type": "execute_result",
          "data": {
            "text/plain": [
              "array([[1., 0.],\n",
              "       [1., 0.],\n",
              "       [0., 1.],\n",
              "       [1., 0.],\n",
              "       [0., 1.],\n",
              "       [1., 0.]], dtype=float32)"
            ]
          },
          "metadata": {},
          "execution_count": 7
        }
      ]
    },
    {
      "cell_type": "code",
      "source": [
        "# Construcción del modelo RNN (Red Neuronal Recurrente) para clasificación\n",
        "model = Sequential()\n",
        "model.add(LSTM(32, input_shape=(5, 1)))  # 32 unidades en la capa LSTM\n",
        "model.add(Dense(2, activation='softmax'))  # Capa de salida para 2 clases\n",
        "model.compile(loss='categorical_crossentropy', optimizer='adam', metrics=['accuracy'])"
      ],
      "metadata": {
        "id": "v4o4ftXETE3W"
      },
      "execution_count": 8,
      "outputs": []
    },
    {
      "cell_type": "code",
      "source": [
        "# Entrenamiento del modelo\n",
        "model.fit(X, y, epochs=100, batch_size=1, verbose=1)"
      ],
      "metadata": {
        "colab": {
          "base_uri": "https://localhost:8080/"
        },
        "id": "vne12ijBTVnu",
        "outputId": "b74a997f-85b6-4f00-bda1-0df02a628a32"
      },
      "execution_count": 9,
      "outputs": [
        {
          "output_type": "stream",
          "name": "stdout",
          "text": [
            "Epoch 1/100\n",
            "6/6 [==============================] - 3s 10ms/step - loss: 1.0097 - accuracy: 0.3333\n",
            "Epoch 2/100\n",
            "6/6 [==============================] - 0s 9ms/step - loss: 0.8809 - accuracy: 0.3333\n",
            "Epoch 3/100\n",
            "6/6 [==============================] - 0s 8ms/step - loss: 0.7945 - accuracy: 0.3333\n",
            "Epoch 4/100\n",
            "6/6 [==============================] - 0s 15ms/step - loss: 0.7218 - accuracy: 0.3333\n",
            "Epoch 5/100\n",
            "6/6 [==============================] - 0s 14ms/step - loss: 0.6426 - accuracy: 1.0000\n",
            "Epoch 6/100\n",
            "6/6 [==============================] - 0s 14ms/step - loss: 0.5871 - accuracy: 1.0000\n",
            "Epoch 7/100\n",
            "6/6 [==============================] - 0s 10ms/step - loss: 0.5331 - accuracy: 0.8333\n",
            "Epoch 8/100\n",
            "6/6 [==============================] - 0s 23ms/step - loss: 0.4968 - accuracy: 0.8333\n",
            "Epoch 9/100\n",
            "6/6 [==============================] - 0s 11ms/step - loss: 0.4570 - accuracy: 0.8333\n",
            "Epoch 10/100\n",
            "6/6 [==============================] - 0s 10ms/step - loss: 0.4235 - accuracy: 0.8333\n",
            "Epoch 11/100\n",
            "6/6 [==============================] - 0s 8ms/step - loss: 0.3930 - accuracy: 0.8333\n",
            "Epoch 12/100\n",
            "6/6 [==============================] - 0s 15ms/step - loss: 0.3606 - accuracy: 1.0000\n",
            "Epoch 13/100\n",
            "6/6 [==============================] - 0s 14ms/step - loss: 0.3271 - accuracy: 1.0000\n",
            "Epoch 14/100\n",
            "6/6 [==============================] - 0s 14ms/step - loss: 0.2983 - accuracy: 1.0000\n",
            "Epoch 15/100\n",
            "6/6 [==============================] - 0s 15ms/step - loss: 0.2691 - accuracy: 1.0000\n",
            "Epoch 16/100\n",
            "6/6 [==============================] - 0s 16ms/step - loss: 0.2450 - accuracy: 1.0000\n",
            "Epoch 17/100\n",
            "6/6 [==============================] - 0s 14ms/step - loss: 0.2258 - accuracy: 1.0000\n",
            "Epoch 18/100\n",
            "6/6 [==============================] - 0s 11ms/step - loss: 0.1973 - accuracy: 1.0000\n",
            "Epoch 19/100\n",
            "6/6 [==============================] - 0s 8ms/step - loss: 0.1801 - accuracy: 1.0000\n",
            "Epoch 20/100\n",
            "6/6 [==============================] - 0s 13ms/step - loss: 0.1618 - accuracy: 1.0000\n",
            "Epoch 21/100\n",
            "6/6 [==============================] - 0s 10ms/step - loss: 0.1462 - accuracy: 1.0000\n",
            "Epoch 22/100\n",
            "6/6 [==============================] - 0s 11ms/step - loss: 0.1311 - accuracy: 1.0000\n",
            "Epoch 23/100\n",
            "6/6 [==============================] - 0s 8ms/step - loss: 0.1167 - accuracy: 1.0000\n",
            "Epoch 24/100\n",
            "6/6 [==============================] - 0s 9ms/step - loss: 0.1049 - accuracy: 1.0000\n",
            "Epoch 25/100\n",
            "6/6 [==============================] - 0s 9ms/step - loss: 0.0941 - accuracy: 1.0000\n",
            "Epoch 26/100\n",
            "6/6 [==============================] - 0s 9ms/step - loss: 0.0844 - accuracy: 1.0000\n",
            "Epoch 27/100\n",
            "6/6 [==============================] - 0s 8ms/step - loss: 0.0752 - accuracy: 1.0000\n",
            "Epoch 28/100\n",
            "6/6 [==============================] - 0s 11ms/step - loss: 0.0677 - accuracy: 1.0000\n",
            "Epoch 29/100\n",
            "6/6 [==============================] - 0s 19ms/step - loss: 0.0602 - accuracy: 1.0000\n",
            "Epoch 30/100\n",
            "6/6 [==============================] - 0s 15ms/step - loss: 0.0543 - accuracy: 1.0000\n",
            "Epoch 31/100\n",
            "6/6 [==============================] - 0s 20ms/step - loss: 0.0491 - accuracy: 1.0000\n",
            "Epoch 32/100\n",
            "6/6 [==============================] - 0s 10ms/step - loss: 0.0448 - accuracy: 1.0000\n",
            "Epoch 33/100\n",
            "6/6 [==============================] - 0s 15ms/step - loss: 0.0404 - accuracy: 1.0000\n",
            "Epoch 34/100\n",
            "6/6 [==============================] - 0s 8ms/step - loss: 0.0355 - accuracy: 1.0000\n",
            "Epoch 35/100\n",
            "6/6 [==============================] - 0s 10ms/step - loss: 0.0324 - accuracy: 1.0000\n",
            "Epoch 36/100\n",
            "6/6 [==============================] - 0s 12ms/step - loss: 0.0288 - accuracy: 1.0000\n",
            "Epoch 37/100\n",
            "6/6 [==============================] - 0s 8ms/step - loss: 0.0261 - accuracy: 1.0000\n",
            "Epoch 38/100\n",
            "6/6 [==============================] - 0s 10ms/step - loss: 0.0235 - accuracy: 1.0000\n",
            "Epoch 39/100\n",
            "6/6 [==============================] - 0s 8ms/step - loss: 0.0211 - accuracy: 1.0000\n",
            "Epoch 40/100\n",
            "6/6 [==============================] - 0s 13ms/step - loss: 0.0184 - accuracy: 1.0000\n",
            "Epoch 41/100\n",
            "6/6 [==============================] - 0s 16ms/step - loss: 0.0166 - accuracy: 1.0000\n",
            "Epoch 42/100\n",
            "6/6 [==============================] - 0s 10ms/step - loss: 0.0148 - accuracy: 1.0000\n",
            "Epoch 43/100\n",
            "6/6 [==============================] - 0s 9ms/step - loss: 0.0134 - accuracy: 1.0000\n",
            "Epoch 44/100\n",
            "6/6 [==============================] - 0s 16ms/step - loss: 0.0122 - accuracy: 1.0000\n",
            "Epoch 45/100\n",
            "6/6 [==============================] - 0s 13ms/step - loss: 0.0111 - accuracy: 1.0000\n",
            "Epoch 46/100\n",
            "6/6 [==============================] - 0s 20ms/step - loss: 0.0103 - accuracy: 1.0000\n",
            "Epoch 47/100\n",
            "6/6 [==============================] - 0s 9ms/step - loss: 0.0098 - accuracy: 1.0000\n",
            "Epoch 48/100\n",
            "6/6 [==============================] - 0s 10ms/step - loss: 0.0092 - accuracy: 1.0000\n",
            "Epoch 49/100\n",
            "6/6 [==============================] - 0s 25ms/step - loss: 0.0086 - accuracy: 1.0000\n",
            "Epoch 50/100\n",
            "6/6 [==============================] - 0s 27ms/step - loss: 0.0083 - accuracy: 1.0000\n",
            "Epoch 51/100\n",
            "6/6 [==============================] - 0s 7ms/step - loss: 0.0078 - accuracy: 1.0000\n",
            "Epoch 52/100\n",
            "6/6 [==============================] - 0s 9ms/step - loss: 0.0075 - accuracy: 1.0000\n",
            "Epoch 53/100\n",
            "6/6 [==============================] - 0s 6ms/step - loss: 0.0071 - accuracy: 1.0000\n",
            "Epoch 54/100\n",
            "6/6 [==============================] - 0s 6ms/step - loss: 0.0068 - accuracy: 1.0000\n",
            "Epoch 55/100\n",
            "6/6 [==============================] - 0s 6ms/step - loss: 0.0065 - accuracy: 1.0000\n",
            "Epoch 56/100\n",
            "6/6 [==============================] - 0s 6ms/step - loss: 0.0063 - accuracy: 1.0000\n",
            "Epoch 57/100\n",
            "6/6 [==============================] - 0s 6ms/step - loss: 0.0060 - accuracy: 1.0000\n",
            "Epoch 58/100\n",
            "6/6 [==============================] - 0s 6ms/step - loss: 0.0058 - accuracy: 1.0000\n",
            "Epoch 59/100\n",
            "6/6 [==============================] - 0s 6ms/step - loss: 0.0056 - accuracy: 1.0000\n",
            "Epoch 60/100\n",
            "6/6 [==============================] - 0s 6ms/step - loss: 0.0054 - accuracy: 1.0000\n",
            "Epoch 61/100\n",
            "6/6 [==============================] - 0s 6ms/step - loss: 0.0052 - accuracy: 1.0000\n",
            "Epoch 62/100\n",
            "6/6 [==============================] - 0s 6ms/step - loss: 0.0050 - accuracy: 1.0000\n",
            "Epoch 63/100\n",
            "6/6 [==============================] - 0s 5ms/step - loss: 0.0049 - accuracy: 1.0000\n",
            "Epoch 64/100\n",
            "6/6 [==============================] - 0s 7ms/step - loss: 0.0047 - accuracy: 1.0000\n",
            "Epoch 65/100\n",
            "6/6 [==============================] - 0s 5ms/step - loss: 0.0046 - accuracy: 1.0000\n",
            "Epoch 66/100\n",
            "6/6 [==============================] - 0s 6ms/step - loss: 0.0044 - accuracy: 1.0000\n",
            "Epoch 67/100\n",
            "6/6 [==============================] - 0s 6ms/step - loss: 0.0043 - accuracy: 1.0000\n",
            "Epoch 68/100\n",
            "6/6 [==============================] - 0s 7ms/step - loss: 0.0042 - accuracy: 1.0000\n",
            "Epoch 69/100\n",
            "6/6 [==============================] - 0s 7ms/step - loss: 0.0040 - accuracy: 1.0000\n",
            "Epoch 70/100\n",
            "6/6 [==============================] - 0s 7ms/step - loss: 0.0039 - accuracy: 1.0000\n",
            "Epoch 71/100\n",
            "6/6 [==============================] - 0s 7ms/step - loss: 0.0038 - accuracy: 1.0000\n",
            "Epoch 72/100\n",
            "6/6 [==============================] - 0s 10ms/step - loss: 0.0037 - accuracy: 1.0000\n",
            "Epoch 73/100\n",
            "6/6 [==============================] - 0s 7ms/step - loss: 0.0036 - accuracy: 1.0000\n",
            "Epoch 74/100\n",
            "6/6 [==============================] - 0s 8ms/step - loss: 0.0035 - accuracy: 1.0000\n",
            "Epoch 75/100\n",
            "6/6 [==============================] - 0s 8ms/step - loss: 0.0034 - accuracy: 1.0000\n",
            "Epoch 76/100\n",
            "6/6 [==============================] - 0s 8ms/step - loss: 0.0033 - accuracy: 1.0000\n",
            "Epoch 77/100\n",
            "6/6 [==============================] - 0s 8ms/step - loss: 0.0033 - accuracy: 1.0000\n",
            "Epoch 78/100\n",
            "6/6 [==============================] - 0s 6ms/step - loss: 0.0032 - accuracy: 1.0000\n",
            "Epoch 79/100\n",
            "6/6 [==============================] - 0s 8ms/step - loss: 0.0031 - accuracy: 1.0000\n",
            "Epoch 80/100\n",
            "6/6 [==============================] - 0s 8ms/step - loss: 0.0030 - accuracy: 1.0000\n",
            "Epoch 81/100\n",
            "6/6 [==============================] - 0s 7ms/step - loss: 0.0030 - accuracy: 1.0000\n",
            "Epoch 82/100\n",
            "6/6 [==============================] - 0s 8ms/step - loss: 0.0029 - accuracy: 1.0000\n",
            "Epoch 83/100\n",
            "6/6 [==============================] - 0s 8ms/step - loss: 0.0028 - accuracy: 1.0000\n",
            "Epoch 84/100\n",
            "6/6 [==============================] - 0s 9ms/step - loss: 0.0028 - accuracy: 1.0000\n",
            "Epoch 85/100\n",
            "6/6 [==============================] - 0s 8ms/step - loss: 0.0027 - accuracy: 1.0000\n",
            "Epoch 86/100\n",
            "6/6 [==============================] - 0s 9ms/step - loss: 0.0026 - accuracy: 1.0000\n",
            "Epoch 87/100\n",
            "6/6 [==============================] - 0s 9ms/step - loss: 0.0026 - accuracy: 1.0000\n",
            "Epoch 88/100\n",
            "6/6 [==============================] - 0s 10ms/step - loss: 0.0025 - accuracy: 1.0000\n",
            "Epoch 89/100\n",
            "6/6 [==============================] - 0s 10ms/step - loss: 0.0025 - accuracy: 1.0000\n",
            "Epoch 90/100\n",
            "6/6 [==============================] - 0s 10ms/step - loss: 0.0024 - accuracy: 1.0000\n",
            "Epoch 91/100\n",
            "6/6 [==============================] - 0s 13ms/step - loss: 0.0024 - accuracy: 1.0000\n",
            "Epoch 92/100\n",
            "6/6 [==============================] - 0s 9ms/step - loss: 0.0024 - accuracy: 1.0000\n",
            "Epoch 93/100\n",
            "6/6 [==============================] - 0s 8ms/step - loss: 0.0023 - accuracy: 1.0000\n",
            "Epoch 94/100\n",
            "6/6 [==============================] - 0s 7ms/step - loss: 0.0023 - accuracy: 1.0000\n",
            "Epoch 95/100\n",
            "6/6 [==============================] - 0s 7ms/step - loss: 0.0022 - accuracy: 1.0000\n",
            "Epoch 96/100\n",
            "6/6 [==============================] - 0s 7ms/step - loss: 0.0022 - accuracy: 1.0000\n",
            "Epoch 97/100\n",
            "6/6 [==============================] - 0s 8ms/step - loss: 0.0021 - accuracy: 1.0000\n",
            "Epoch 98/100\n",
            "6/6 [==============================] - 0s 8ms/step - loss: 0.0021 - accuracy: 1.0000\n",
            "Epoch 99/100\n",
            "6/6 [==============================] - 0s 8ms/step - loss: 0.0021 - accuracy: 1.0000\n",
            "Epoch 100/100\n",
            "6/6 [==============================] - 0s 9ms/step - loss: 0.0020 - accuracy: 1.0000\n"
          ]
        },
        {
          "output_type": "execute_result",
          "data": {
            "text/plain": [
              "<keras.src.callbacks.History at 0x7c03ac2e7d60>"
            ]
          },
          "metadata": {},
          "execution_count": 9
        }
      ]
    },
    {
      "cell_type": "code",
      "source": [
        "# Evaluación del modelo\n",
        "accuracy = model.evaluate(X, y, verbose=0)[1]\n",
        "print(f'Precisión del modelo: {accuracy * 100:.2f}%')"
      ],
      "metadata": {
        "colab": {
          "base_uri": "https://localhost:8080/"
        },
        "id": "Iighu5r-TiBH",
        "outputId": "afce3b6e-4807-48e6-a87c-ff29c54ac0f7"
      },
      "execution_count": 10,
      "outputs": [
        {
          "output_type": "stream",
          "name": "stdout",
          "text": [
            "Precisión del modelo: 100.00%\n"
          ]
        }
      ]
    },
    {
      "cell_type": "code",
      "source": [
        "model.predict([[[3],[3],[3],[5],[7]]])"
      ],
      "metadata": {
        "colab": {
          "base_uri": "https://localhost:8080/"
        },
        "id": "sl_q1NXe-oTA",
        "outputId": "f34d1e18-02ed-4ede-949e-bf273933b120"
      },
      "execution_count": 12,
      "outputs": [
        {
          "output_type": "stream",
          "name": "stdout",
          "text": [
            "1/1 [==============================] - 0s 40ms/step\n"
          ]
        },
        {
          "output_type": "execute_result",
          "data": {
            "text/plain": [
              "array([[6.1947724e-04, 9.9938047e-01]], dtype=float32)"
            ]
          },
          "metadata": {},
          "execution_count": 12
        }
      ]
    }
  ]
}