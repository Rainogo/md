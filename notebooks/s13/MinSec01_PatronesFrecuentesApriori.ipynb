{
 "cells": [
  {
   "cell_type": "code",
   "execution_count": null,
   "id": "629fe845",
   "metadata": {
    "id": "629fe845"
   },
   "outputs": [],
   "source": [
    "# instalar la librería mlxtend una sola vez\n",
    "#!pip install mlxtend"
   ]
  },
  {
   "cell_type": "code",
   "execution_count": 1,
   "id": "55067117",
   "metadata": {
    "id": "55067117"
   },
   "outputs": [],
   "source": [
    "import pandas as pd\n",
    "from mlxtend.preprocessing import TransactionEncoder\n",
    "from mlxtend.frequent_patterns import apriori, association_rules"
   ]
  },
  {
   "cell_type": "code",
   "execution_count": 2,
   "id": "68b4ecb7",
   "metadata": {
    "colab": {
     "base_uri": "https://localhost:8080/"
    },
    "id": "68b4ecb7",
    "outputId": "c986ea96-6a5a-48fd-b7bf-285dc3bae74e"
   },
   "outputs": [],
   "source": [
    "# Datos de ejemplo: una lista de transacciones, cada una con ítems comprados\n",
    "transactions = [\n",
    "    ['Leche', 'Pan'],\n",
    "    ['Pan', 'Mantequilla', 'Mermelada'],\n",
    "    ['Leche', 'Mantequilla'],\n",
    "    ['Pan', 'Mermelada'],\n",
    "    ['Leche', 'Pan', 'Mantequilla', 'Mermelada'],\n",
    "    ['Pan', 'Mermelada'],\n",
    "    ['Leche', 'Pan', 'Mermelada'],\n",
    "    ['Leche', 'Pan', 'Mantequilla'],\n",
    "]"
   ]
  },
  {
   "cell_type": "code",
   "execution_count": 3,
   "id": "f6fd1654",
   "metadata": {
    "colab": {
     "base_uri": "https://localhost:8080/"
    },
    "id": "f6fd1654",
    "outputId": "48dc9d71-583a-4ea1-803d-f6110e62ea2b"
   },
   "outputs": [],
   "source": [
    "# Codificar los datos de transacciones para el análisis\n",
    "encoder = TransactionEncoder()\n",
    "transactions_encoded = encoder.fit_transform(transactions)\n",
    "df_transactions = pd.DataFrame(transactions_encoded, columns=encoder.columns_)"
   ]
  },
  {
   "cell_type": "code",
   "execution_count": 4,
   "id": "d019361c",
   "metadata": {
    "colab": {
     "base_uri": "https://localhost:8080/",
     "height": 355
    },
    "id": "d019361c",
    "outputId": "ea7eac7f-9717-4990-c717-63dfc1415b8d"
   },
   "outputs": [
    {
     "data": {
      "text/html": [
       "<div>\n",
       "<style scoped>\n",
       "    .dataframe tbody tr th:only-of-type {\n",
       "        vertical-align: middle;\n",
       "    }\n",
       "\n",
       "    .dataframe tbody tr th {\n",
       "        vertical-align: top;\n",
       "    }\n",
       "\n",
       "    .dataframe thead th {\n",
       "        text-align: right;\n",
       "    }\n",
       "</style>\n",
       "<table border=\"1\" class=\"dataframe\">\n",
       "  <thead>\n",
       "    <tr style=\"text-align: right;\">\n",
       "      <th></th>\n",
       "      <th>Leche</th>\n",
       "      <th>Mantequilla</th>\n",
       "      <th>Mermelada</th>\n",
       "      <th>Pan</th>\n",
       "    </tr>\n",
       "  </thead>\n",
       "  <tbody>\n",
       "    <tr>\n",
       "      <th>0</th>\n",
       "      <td>True</td>\n",
       "      <td>False</td>\n",
       "      <td>False</td>\n",
       "      <td>True</td>\n",
       "    </tr>\n",
       "    <tr>\n",
       "      <th>1</th>\n",
       "      <td>False</td>\n",
       "      <td>True</td>\n",
       "      <td>True</td>\n",
       "      <td>True</td>\n",
       "    </tr>\n",
       "    <tr>\n",
       "      <th>2</th>\n",
       "      <td>True</td>\n",
       "      <td>True</td>\n",
       "      <td>False</td>\n",
       "      <td>False</td>\n",
       "    </tr>\n",
       "    <tr>\n",
       "      <th>3</th>\n",
       "      <td>False</td>\n",
       "      <td>False</td>\n",
       "      <td>True</td>\n",
       "      <td>True</td>\n",
       "    </tr>\n",
       "    <tr>\n",
       "      <th>4</th>\n",
       "      <td>True</td>\n",
       "      <td>True</td>\n",
       "      <td>True</td>\n",
       "      <td>True</td>\n",
       "    </tr>\n",
       "    <tr>\n",
       "      <th>5</th>\n",
       "      <td>False</td>\n",
       "      <td>False</td>\n",
       "      <td>True</td>\n",
       "      <td>True</td>\n",
       "    </tr>\n",
       "    <tr>\n",
       "      <th>6</th>\n",
       "      <td>True</td>\n",
       "      <td>False</td>\n",
       "      <td>True</td>\n",
       "      <td>True</td>\n",
       "    </tr>\n",
       "    <tr>\n",
       "      <th>7</th>\n",
       "      <td>True</td>\n",
       "      <td>True</td>\n",
       "      <td>False</td>\n",
       "      <td>True</td>\n",
       "    </tr>\n",
       "  </tbody>\n",
       "</table>\n",
       "</div>"
      ],
      "text/plain": [
       "   Leche  Mantequilla  Mermelada    Pan\n",
       "0   True        False      False   True\n",
       "1  False         True       True   True\n",
       "2   True         True      False  False\n",
       "3  False        False       True   True\n",
       "4   True         True       True   True\n",
       "5  False        False       True   True\n",
       "6   True        False       True   True\n",
       "7   True         True      False   True"
      ]
     },
     "execution_count": 4,
     "metadata": {},
     "output_type": "execute_result"
    }
   ],
   "source": [
    "df_transactions"
   ]
  },
  {
   "cell_type": "code",
   "execution_count": 5,
   "id": "78dbca2e",
   "metadata": {
    "colab": {
     "base_uri": "https://localhost:8080/"
    },
    "id": "78dbca2e",
    "outputId": "557ac975-9a38-48cc-f1a7-02589b7aa752"
   },
   "outputs": [],
   "source": [
    "# Aplicar el algoritmo Apriori para encontrar conjuntos de ítems frecuentes\n",
    "frequent_itemsets = apriori(df_transactions, min_support=0.3, use_colnames=True)"
   ]
  },
  {
   "cell_type": "code",
   "execution_count": 6,
   "id": "969f7a00",
   "metadata": {
    "colab": {
     "base_uri": "https://localhost:8080/"
    },
    "id": "969f7a00",
    "outputId": "f4249475-3b62-4c72-94fc-721706a7bee3"
   },
   "outputs": [
    {
     "name": "stdout",
     "output_type": "stream",
     "text": [
      "   support              itemsets\n",
      "0    0.625               (Leche)\n",
      "1    0.500         (Mantequilla)\n",
      "2    0.625           (Mermelada)\n",
      "3    0.875                 (Pan)\n",
      "4    0.375  (Mantequilla, Leche)\n",
      "5    0.500          (Pan, Leche)\n",
      "6    0.375    (Pan, Mantequilla)\n",
      "7    0.625      (Mermelada, Pan)\n"
     ]
    }
   ],
   "source": [
    "# Mostrar los conjuntos de ítems frecuentes\n",
    "print(frequent_itemsets)"
   ]
  },
  {
   "cell_type": "code",
   "execution_count": 7,
   "id": "c8d36deb",
   "metadata": {
    "colab": {
     "base_uri": "https://localhost:8080/"
    },
    "id": "c8d36deb",
    "outputId": "7b84ed18-b3ef-41fb-fe32-7e81f761aef7"
   },
   "outputs": [
    {
     "name": "stdout",
     "output_type": "stream",
     "text": [
      "     antecedents  consequents  support  confidence      lift\n",
      "0  (Mantequilla)      (Leche)    0.375    0.750000  1.200000\n",
      "1        (Leche)        (Pan)    0.500    0.800000  0.914286\n",
      "2  (Mantequilla)        (Pan)    0.375    0.750000  0.857143\n",
      "3    (Mermelada)        (Pan)    0.625    1.000000  1.142857\n",
      "4          (Pan)  (Mermelada)    0.625    0.714286  1.142857\n"
     ]
    }
   ],
   "source": [
    "# (Opcional) Reglas de asociación\n",
    "rules = association_rules(frequent_itemsets, metric='confidence', min_threshold=0.7)\n",
    "print(rules[['antecedents', 'consequents', 'support', 'confidence', 'lift']])"
   ]
  },
  {
   "cell_type": "markdown",
   "id": "1046febc",
   "metadata": {},
   "source": [
    "* Lift > 1: Los antecedentes y consecuentes están positivamente asociados. La ocurrencia de los antecedentes aumenta la probabilidad de que los consecuentes ocurran.\n",
    "* Lift < 1: Los antecedentes y consecuentes están negativamente asociados. La ocurrencia de los antecedentes disminuye la probabilidad de que los consecuentes ocurran.\n",
    "* Lift = 1: Los antecedentes y consecuentes son independientes. La ocurrencia de los antecedentes no afecta la probabilidad de que los consecuentes ocurran."
   ]
  }
 ],
 "metadata": {
  "colab": {
   "provenance": []
  },
  "kernelspec": {
   "display_name": "Python 3 (ipykernel)",
   "language": "python",
   "name": "python3"
  },
  "language_info": {
   "codemirror_mode": {
    "name": "ipython",
    "version": 3
   },
   "file_extension": ".py",
   "mimetype": "text/x-python",
   "name": "python",
   "nbconvert_exporter": "python",
   "pygments_lexer": "ipython3",
   "version": "3.11.4"
  }
 },
 "nbformat": 4,
 "nbformat_minor": 5
}
