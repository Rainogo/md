{
  "nbformat": 4,
  "nbformat_minor": 0,
  "metadata": {
    "colab": {
      "provenance": []
    },
    "kernelspec": {
      "name": "python3",
      "display_name": "Python 3"
    },
    "language_info": {
      "name": "python"
    }
  },
  "cells": [
    {
      "cell_type": "markdown",
      "source": [
        "- Sequential: Para crear un modelo secuencial de Keras.\n",
        "- LSTM: La capa de red neuronal recurrente utilizada para capturar dependencias en secuencias de datos.\n",
        "- Dense: La capa totalmente conectada usada al final del modelo.\n",
        "- Embedding: La capa de embeddings para convertir entradas categóricas en vectores densos.\n",
        "- numpy: Librería para manejar arrays de datos y realizar operaciones numéricas."
      ],
      "metadata": {
        "id": "02YpMJkJkG7u"
      }
    },
    {
      "cell_type": "code",
      "execution_count": null,
      "metadata": {
        "id": "bIIjO41VhD25"
      },
      "outputs": [],
      "source": [
        "from keras.models import Sequential\n",
        "from keras.layers import LSTM, Dense, Embedding\n",
        "import numpy as np"
      ]
    },
    {
      "cell_type": "markdown",
      "source": [
        "sequences: Una lista de secuencias de números que representan productos, acciones u otros eventos discretos."
      ],
      "metadata": {
        "id": "MhggKoIAkigT"
      }
    },
    {
      "cell_type": "code",
      "source": [
        "# Datos simulados\n",
        "sequences = [\n",
        "    [1, 2, 3],\n",
        "    [4, 2, 5],\n",
        "    [1, 2],\n",
        "    [1, 2, 4, 5],\n",
        "    # más secuencias...\n",
        "]"
      ],
      "metadata": {
        "id": "s8w255xoheb0"
      },
      "execution_count": null,
      "outputs": []
    },
    {
      "cell_type": "markdown",
      "source": [
        "* max_sequence_len: La longitud máxima de las secuencias después del relleno (padding).\n",
        "* embedding_dim: La dimensión de los vectores de embeddings.\n",
        "* num_products: El número total de productos únicos en las secuencias."
      ],
      "metadata": {
        "id": "nCX81lxwkohd"
      }
    },
    {
      "cell_type": "code",
      "source": [
        "# Parametros\n",
        "max_sequence_len = 4\n",
        "embedding_dim = 10\n",
        "num_products = 6  # número total de productos"
      ],
      "metadata": {
        "id": "sS_LUAuwhiuC"
      },
      "execution_count": null,
      "outputs": []
    },
    {
      "cell_type": "markdown",
      "source": [
        "#### Generación de Entradas y Salidas:\n",
        "\n",
        "X: Se generan sub-secuencias desde el inicio de cada secuencia hasta el ítem anterior al actual.\n",
        "\n",
        "y: La salida es el siguiente ítem en la secuencia.\n",
        "\n",
        "#### Relleno de Secuencias:\n",
        "\n",
        "Se usa np.pad para rellenar las secuencias a una longitud fija (max_sequence_len).\n",
        "\n",
        "#### Conversión a Arrays de numpy:\n",
        "\n",
        "Se convierten X e y a arrays de numpy para ser utilizados en el modelo."
      ],
      "metadata": {
        "id": "cncCqtgklAtk"
      }
    },
    {
      "cell_type": "code",
      "source": [
        "# Preprocesamiento de datos\n",
        "X = []\n",
        "y = []\n",
        "\n",
        "for seq in sequences:\n",
        "    for i in range(1, len(seq)):\n",
        "        X.append(seq[:i])\n",
        "        y.append(seq[i])\n",
        "\n",
        "X = np.array([np.pad(x, (0, max_sequence_len-len(x)), 'constant') for x in X])\n",
        "y = np.array(y)"
      ],
      "metadata": {
        "id": "oLaZniLAhowD"
      },
      "execution_count": null,
      "outputs": []
    },
    {
      "cell_type": "markdown",
      "source": [
        "Capa de Embeddings: Convierte los índices de los productos en vectores densos.\n",
        "\n",
        "Capa LSTM: Captura las dependencias temporales en las secuencias.\n",
        "\n",
        "Capa Densa: Produce una distribución de probabilidad sobre los productos para predecir el próximo ítem.\n",
        "\n",
        "Compilación del Modelo: Utiliza sparse_categorical_crossentropy como la función de pérdida y adam como el optimizador."
      ],
      "metadata": {
        "id": "iEwVPn1UlirG"
      }
    },
    {
      "cell_type": "code",
      "source": [
        "# Construcción del modelo LSTM\n",
        "model = Sequential()\n",
        "model.add(Embedding(input_dim=num_products, output_dim=embedding_dim, input_length=max_sequence_len))\n",
        "model.add(LSTM(50))\n",
        "model.add(Dense(num_products, activation='softmax'))\n",
        "\n",
        "model.compile(loss='sparse_categorical_crossentropy', optimizer='adam', metrics=['accuracy'])"
      ],
      "metadata": {
        "id": "lsb8hHWIhuJT"
      },
      "execution_count": null,
      "outputs": []
    },
    {
      "cell_type": "markdown",
      "source": [
        "Se entrena el modelo con las entradas X y las salidas y durante 50 épocas."
      ],
      "metadata": {
        "id": "pUj03YAElwjw"
      }
    },
    {
      "cell_type": "code",
      "source": [
        "# Entrenamiento del modelo\n",
        "model.fit(X, y, epochs=50, verbose=2)"
      ],
      "metadata": {
        "colab": {
          "base_uri": "https://localhost:8080/"
        },
        "id": "Crl8slF9h6wE",
        "outputId": "c39f1836-9c8d-43a6-d132-9045241ab14f"
      },
      "execution_count": null,
      "outputs": [
        {
          "output_type": "stream",
          "name": "stdout",
          "text": [
            "Epoch 1/50\n",
            "1/1 - 4s - loss: 1.7925 - accuracy: 0.0000e+00 - 4s/epoch - 4s/step\n",
            "Epoch 2/50\n",
            "1/1 - 0s - loss: 1.7882 - accuracy: 0.6250 - 10ms/epoch - 10ms/step\n",
            "Epoch 3/50\n",
            "1/1 - 0s - loss: 1.7838 - accuracy: 0.5000 - 9ms/epoch - 9ms/step\n",
            "Epoch 4/50\n",
            "1/1 - 0s - loss: 1.7795 - accuracy: 0.5000 - 16ms/epoch - 16ms/step\n",
            "Epoch 5/50\n",
            "1/1 - 0s - loss: 1.7750 - accuracy: 0.5000 - 11ms/epoch - 11ms/step\n",
            "Epoch 6/50\n",
            "1/1 - 0s - loss: 1.7705 - accuracy: 0.5000 - 12ms/epoch - 12ms/step\n",
            "Epoch 7/50\n",
            "1/1 - 0s - loss: 1.7659 - accuracy: 0.5000 - 11ms/epoch - 11ms/step\n",
            "Epoch 8/50\n",
            "1/1 - 0s - loss: 1.7612 - accuracy: 0.5000 - 12ms/epoch - 12ms/step\n",
            "Epoch 9/50\n",
            "1/1 - 0s - loss: 1.7563 - accuracy: 0.5000 - 10ms/epoch - 10ms/step\n",
            "Epoch 10/50\n",
            "1/1 - 0s - loss: 1.7513 - accuracy: 0.5000 - 11ms/epoch - 11ms/step\n",
            "Epoch 11/50\n",
            "1/1 - 0s - loss: 1.7461 - accuracy: 0.5000 - 12ms/epoch - 12ms/step\n",
            "Epoch 12/50\n",
            "1/1 - 0s - loss: 1.7406 - accuracy: 0.5000 - 19ms/epoch - 19ms/step\n",
            "Epoch 13/50\n",
            "1/1 - 0s - loss: 1.7349 - accuracy: 0.5000 - 15ms/epoch - 15ms/step\n",
            "Epoch 14/50\n",
            "1/1 - 0s - loss: 1.7289 - accuracy: 0.5000 - 11ms/epoch - 11ms/step\n",
            "Epoch 15/50\n",
            "1/1 - 0s - loss: 1.7227 - accuracy: 0.5000 - 11ms/epoch - 11ms/step\n",
            "Epoch 16/50\n",
            "1/1 - 0s - loss: 1.7161 - accuracy: 0.5000 - 13ms/epoch - 13ms/step\n",
            "Epoch 17/50\n",
            "1/1 - 0s - loss: 1.7091 - accuracy: 0.5000 - 12ms/epoch - 12ms/step\n",
            "Epoch 18/50\n",
            "1/1 - 0s - loss: 1.7018 - accuracy: 0.5000 - 12ms/epoch - 12ms/step\n",
            "Epoch 19/50\n",
            "1/1 - 0s - loss: 1.6941 - accuracy: 0.5000 - 11ms/epoch - 11ms/step\n",
            "Epoch 20/50\n",
            "1/1 - 0s - loss: 1.6859 - accuracy: 0.5000 - 12ms/epoch - 12ms/step\n",
            "Epoch 21/50\n",
            "1/1 - 0s - loss: 1.6773 - accuracy: 0.5000 - 13ms/epoch - 13ms/step\n",
            "Epoch 22/50\n",
            "1/1 - 0s - loss: 1.6682 - accuracy: 0.5000 - 21ms/epoch - 21ms/step\n",
            "Epoch 23/50\n",
            "1/1 - 0s - loss: 1.6585 - accuracy: 0.5000 - 11ms/epoch - 11ms/step\n",
            "Epoch 24/50\n",
            "1/1 - 0s - loss: 1.6482 - accuracy: 0.5000 - 11ms/epoch - 11ms/step\n",
            "Epoch 25/50\n",
            "1/1 - 0s - loss: 1.6373 - accuracy: 0.5000 - 12ms/epoch - 12ms/step\n",
            "Epoch 26/50\n",
            "1/1 - 0s - loss: 1.6258 - accuracy: 0.5000 - 11ms/epoch - 11ms/step\n",
            "Epoch 27/50\n",
            "1/1 - 0s - loss: 1.6136 - accuracy: 0.5000 - 12ms/epoch - 12ms/step\n",
            "Epoch 28/50\n",
            "1/1 - 0s - loss: 1.6007 - accuracy: 0.5000 - 11ms/epoch - 11ms/step\n",
            "Epoch 29/50\n",
            "1/1 - 0s - loss: 1.5870 - accuracy: 0.5000 - 13ms/epoch - 13ms/step\n",
            "Epoch 30/50\n",
            "1/1 - 0s - loss: 1.5725 - accuracy: 0.5000 - 16ms/epoch - 16ms/step\n",
            "Epoch 31/50\n",
            "1/1 - 0s - loss: 1.5573 - accuracy: 0.5000 - 13ms/epoch - 13ms/step\n",
            "Epoch 32/50\n",
            "1/1 - 0s - loss: 1.5412 - accuracy: 0.5000 - 11ms/epoch - 11ms/step\n",
            "Epoch 33/50\n",
            "1/1 - 0s - loss: 1.5242 - accuracy: 0.5000 - 12ms/epoch - 12ms/step\n",
            "Epoch 34/50\n",
            "1/1 - 0s - loss: 1.5064 - accuracy: 0.5000 - 12ms/epoch - 12ms/step\n",
            "Epoch 35/50\n",
            "1/1 - 0s - loss: 1.4878 - accuracy: 0.5000 - 13ms/epoch - 13ms/step\n",
            "Epoch 36/50\n",
            "1/1 - 0s - loss: 1.4684 - accuracy: 0.5000 - 12ms/epoch - 12ms/step\n",
            "Epoch 37/50\n",
            "1/1 - 0s - loss: 1.4482 - accuracy: 0.5000 - 11ms/epoch - 11ms/step\n",
            "Epoch 38/50\n",
            "1/1 - 0s - loss: 1.4275 - accuracy: 0.5000 - 11ms/epoch - 11ms/step\n",
            "Epoch 39/50\n",
            "1/1 - 0s - loss: 1.4063 - accuracy: 0.5000 - 12ms/epoch - 12ms/step\n",
            "Epoch 40/50\n",
            "1/1 - 0s - loss: 1.3848 - accuracy: 0.5000 - 12ms/epoch - 12ms/step\n",
            "Epoch 41/50\n",
            "1/1 - 0s - loss: 1.3634 - accuracy: 0.5000 - 13ms/epoch - 13ms/step\n",
            "Epoch 42/50\n",
            "1/1 - 0s - loss: 1.3422 - accuracy: 0.5000 - 33ms/epoch - 33ms/step\n",
            "Epoch 43/50\n",
            "1/1 - 0s - loss: 1.3217 - accuracy: 0.5000 - 16ms/epoch - 16ms/step\n",
            "Epoch 44/50\n",
            "1/1 - 0s - loss: 1.3024 - accuracy: 0.5000 - 16ms/epoch - 16ms/step\n",
            "Epoch 45/50\n",
            "1/1 - 0s - loss: 1.2846 - accuracy: 0.5000 - 16ms/epoch - 16ms/step\n",
            "Epoch 46/50\n",
            "1/1 - 0s - loss: 1.2688 - accuracy: 0.5000 - 15ms/epoch - 15ms/step\n",
            "Epoch 47/50\n",
            "1/1 - 0s - loss: 1.2554 - accuracy: 0.5000 - 14ms/epoch - 14ms/step\n",
            "Epoch 48/50\n",
            "1/1 - 0s - loss: 1.2444 - accuracy: 0.5000 - 15ms/epoch - 15ms/step\n",
            "Epoch 49/50\n",
            "1/1 - 0s - loss: 1.2359 - accuracy: 0.5000 - 15ms/epoch - 15ms/step\n",
            "Epoch 50/50\n",
            "1/1 - 0s - loss: 1.2294 - accuracy: 0.5000 - 17ms/epoch - 17ms/step\n"
          ]
        },
        {
          "output_type": "execute_result",
          "data": {
            "text/plain": [
              "<keras.src.callbacks.History at 0x7ad3f0297d00>"
            ]
          },
          "metadata": {},
          "execution_count": 7
        }
      ]
    },
    {
      "cell_type": "markdown",
      "source": [
        "**Nueva Secuencia para Predicción:**\n",
        "\n",
        "new_sequence: Una nueva secuencia para la cual queremos predecir el próximo ítem.\n",
        "\n",
        "new_sequence_padded: Se rellena la secuencia para que tenga la misma longitud que las secuencias de entrenamiento y se remodela para que coincida con la entrada esperada por el modelo.\n",
        "\n",
        "**Predicción:**\n",
        "\n",
        "model.predict: Se utiliza el modelo para predecir la probabilidad del próximo producto.\n",
        "\n",
        "np.argmax: Se obtiene el índice del producto con la probabilidad más alta.\n",
        "\n",
        "**Salida de la Predicción:**\n",
        "\n",
        "Se imprime el próximo producto predicho."
      ],
      "metadata": {
        "id": "0EKl8xOWl5aT"
      }
    },
    {
      "cell_type": "code",
      "source": [
        "# Predicción\n",
        "new_sequence = [1, 2]\n",
        "new_sequence_padded = np.pad(new_sequence, (0, max_sequence_len-len(new_sequence)), 'constant').reshape(1, -1)\n",
        "predicted_next_product = np.argmax(model.predict(new_sequence_padded), axis=-1)\n",
        "\n",
        "print(f\"El próximo producto predicho es: {predicted_next_product}\")"
      ],
      "metadata": {
        "colab": {
          "base_uri": "https://localhost:8080/"
        },
        "id": "RdZckI0MiHim",
        "outputId": "5116ba05-ddae-4740-d211-f9fa5d242954"
      },
      "execution_count": null,
      "outputs": [
        {
          "output_type": "stream",
          "name": "stdout",
          "text": [
            "1/1 [==============================] - 1s 591ms/step\n",
            "El próximo producto predicho es: [2]\n"
          ]
        }
      ]
    },
    {
      "cell_type": "markdown",
      "source": [
        "Este código muestra cómo preparar datos de secuencias, construir y entrenar un modelo LSTM para la predicción de secuencias, y luego utilizar el modelo entrenado para hacer predicciones sobre nuevas secuencias."
      ],
      "metadata": {
        "id": "EKnFQw-1mWXM"
      }
    },
    {
      "cell_type": "markdown",
      "source": [
        "### Interpretación y Aplicación\n",
        "El modelo entrenado puede utilizarse para predecir el próximo producto que un cliente probablemente comprará. Esta predicción puede integrarse en el sistema de recomendación del sitio web, mostrando productos sugeridos basados en las predicciones del modelo. Además, estas recomendaciones pueden personalizarse en tiempo real, mejorando la experiencia del usuario y potenciando las ventas.\n",
        "\n",
        "Este ejemplo ilustra cómo la predicción de secuencias en minería de datos se puede aplicar para anticipar las necesidades de los clientes en un contexto de comercio electrónico, proporcionando recomendaciones precisas y mejorando la satisfacción del cliente."
      ],
      "metadata": {
        "id": "HLo7mrl_iaHU"
      }
    }
  ]
}