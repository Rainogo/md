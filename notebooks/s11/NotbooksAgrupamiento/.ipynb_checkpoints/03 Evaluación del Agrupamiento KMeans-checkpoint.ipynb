{
 "cells": [
  {
   "cell_type": "markdown",
   "id": "fb9cfad0",
   "metadata": {},
   "source": [
    "# Importar librerias"
   ]
  },
  {
   "cell_type": "code",
   "execution_count": 1,
   "id": "02bd8857",
   "metadata": {},
   "outputs": [],
   "source": [
    "import numpy as np\n",
    "import pandas as pd\n",
    "import matplotlib.pyplot as plt\n",
    "import seaborn as sns"
   ]
  },
  {
   "cell_type": "markdown",
   "id": "dc1fc705",
   "metadata": {},
   "source": [
    "# Cargar datos"
   ]
  },
  {
   "cell_type": "code",
   "execution_count": null,
   "id": "cc0a8f7d",
   "metadata": {},
   "outputs": [],
   "source": [
    "datos = pd.read_csv('bank-full.csv')"
   ]
  },
  {
   "cell_type": "code",
   "execution_count": null,
   "id": "77ddc445",
   "metadata": {},
   "outputs": [],
   "source": [
    "datos.head()"
   ]
  },
  {
   "cell_type": "code",
   "execution_count": null,
   "id": "d02d0614",
   "metadata": {},
   "outputs": [],
   "source": [
    "datos.columns"
   ]
  },
  {
   "cell_type": "code",
   "execution_count": null,
   "id": "0d2ccc87",
   "metadata": {},
   "outputs": [],
   "source": [
    "datos.info()"
   ]
  },
  {
   "cell_type": "markdown",
   "id": "f9bb7cd8",
   "metadata": {},
   "source": [
    "# Análisis Exploratorio de Datos"
   ]
  },
  {
   "cell_type": "code",
   "execution_count": null,
   "id": "3ed79358",
   "metadata": {},
   "outputs": [],
   "source": [
    "plt.figure(figsize=(12,6),dpi=200)\n",
    "sns.histplot(data=datos,x='age')"
   ]
  },
  {
   "cell_type": "code",
   "execution_count": null,
   "id": "5f2935f5",
   "metadata": {},
   "outputs": [],
   "source": [
    "plt.figure(figsize=(12,6),dpi=200)\n",
    "sns.histplot(data=datos,x='age',hue='loan')"
   ]
  },
  {
   "cell_type": "code",
   "execution_count": null,
   "id": "6d6cba6e",
   "metadata": {},
   "outputs": [],
   "source": [
    "plt.figure(figsize=(12,6),dpi=200)\n",
    "sns.histplot(data=datos,x='pdays')"
   ]
  },
  {
   "cell_type": "code",
   "execution_count": null,
   "id": "bda8682b",
   "metadata": {},
   "outputs": [],
   "source": [
    "plt.figure(figsize=(12,6),dpi=200)\n",
    "sns.histplot(data=datos[datos['pdays'] != 999],x='pdays')"
   ]
  },
  {
   "cell_type": "code",
   "execution_count": null,
   "id": "8cbdf510",
   "metadata": {
    "scrolled": true
   },
   "outputs": [],
   "source": [
    "plt.figure(figsize=(12,6),dpi=200)\n",
    "sns.histplot(data=datos,x='duration',hue='contact')"
   ]
  },
  {
   "cell_type": "code",
   "execution_count": null,
   "id": "1c21321f",
   "metadata": {},
   "outputs": [],
   "source": [
    "plt.figure(figsize=(12,6),dpi=200)\n",
    "sns.histplot(data=datos,x='previous',hue='contact')"
   ]
  },
  {
   "cell_type": "code",
   "execution_count": null,
   "id": "9ce9f772",
   "metadata": {},
   "outputs": [],
   "source": [
    "sns.countplot(data=datos,x='contact')"
   ]
  },
  {
   "cell_type": "code",
   "execution_count": null,
   "id": "8efcec30",
   "metadata": {},
   "outputs": [],
   "source": [
    "plt.figure(figsize=(12,6),dpi=200)\n",
    "sns.countplot(data=datos,x='job')"
   ]
  },
  {
   "cell_type": "code",
   "execution_count": null,
   "id": "2cdae0ba",
   "metadata": {},
   "outputs": [],
   "source": [
    "plt.figure(figsize=(12,6),dpi=200)\n",
    "sns.countplot(data=datos,x='job',order=datos['job'].value_counts().index)\n",
    "plt.xticks(rotation=90);"
   ]
  },
  {
   "cell_type": "code",
   "execution_count": null,
   "id": "161e4d82",
   "metadata": {},
   "outputs": [],
   "source": [
    "plt.figure(figsize=(12,6),dpi=200)\n",
    "sns.countplot(data=datos,x='education',\n",
    "              order=datos['education'].value_counts().index)\n",
    "plt.xticks(rotation=90);"
   ]
  },
  {
   "cell_type": "code",
   "execution_count": null,
   "id": "a00d5d86",
   "metadata": {},
   "outputs": [],
   "source": [
    "plt.figure(figsize=(12,6),dpi=200)\n",
    "sns.countplot(data=datos,x='education',\n",
    "              order=datos['education'].value_counts().index,\n",
    "             hue='default')\n",
    "plt.xticks(rotation=90);"
   ]
  },
  {
   "cell_type": "code",
   "execution_count": null,
   "id": "205e77f4",
   "metadata": {},
   "outputs": [],
   "source": [
    "plt.figure(dpi=200)\n",
    "sns.countplot(data=datos, x='default')"
   ]
  },
  {
   "cell_type": "code",
   "execution_count": null,
   "id": "c935530d",
   "metadata": {},
   "outputs": [],
   "source": [
    "plt.figure(dpi=200)\n",
    "sns.pairplot(datos)"
   ]
  },
  {
   "cell_type": "markdown",
   "id": "a299d421",
   "metadata": {},
   "source": [
    "# Preparación de Datos"
   ]
  },
  {
   "cell_type": "code",
   "execution_count": null,
   "id": "b85a2750",
   "metadata": {},
   "outputs": [],
   "source": [
    "datos.head()"
   ]
  },
  {
   "cell_type": "code",
   "execution_count": null,
   "id": "23302bf4",
   "metadata": {},
   "outputs": [],
   "source": [
    "datos.info()"
   ]
  },
  {
   "cell_type": "code",
   "execution_count": null,
   "id": "c9f0f4d2",
   "metadata": {},
   "outputs": [],
   "source": [
    "pd.get_dummies(datos)"
   ]
  },
  {
   "cell_type": "code",
   "execution_count": null,
   "id": "1fa46431",
   "metadata": {},
   "outputs": [],
   "source": [
    "X = pd.get_dummies(datos)"
   ]
  },
  {
   "cell_type": "code",
   "execution_count": null,
   "id": "4a932aac",
   "metadata": {},
   "outputs": [],
   "source": [
    "X.describe()"
   ]
  },
  {
   "cell_type": "code",
   "execution_count": null,
   "id": "859afccb",
   "metadata": {},
   "outputs": [],
   "source": [
    "from sklearn.preprocessing import StandardScaler"
   ]
  },
  {
   "cell_type": "code",
   "execution_count": null,
   "id": "d2242c9e",
   "metadata": {},
   "outputs": [],
   "source": [
    "escala = StandardScaler()"
   ]
  },
  {
   "cell_type": "code",
   "execution_count": null,
   "id": "4e53b2a8",
   "metadata": {},
   "outputs": [],
   "source": [
    "X_escala = escala.fit_transform(X)"
   ]
  },
  {
   "cell_type": "code",
   "execution_count": null,
   "id": "a423dd2c",
   "metadata": {},
   "outputs": [],
   "source": [
    "X_escala"
   ]
  },
  {
   "cell_type": "markdown",
   "id": "d0ad05ea",
   "metadata": {},
   "source": [
    "# Creación del Modelo KMeans"
   ]
  },
  {
   "cell_type": "code",
   "execution_count": null,
   "id": "2ac20ac4",
   "metadata": {},
   "outputs": [],
   "source": [
    "from sklearn.cluster import KMeans"
   ]
  },
  {
   "cell_type": "code",
   "execution_count": null,
   "id": "296d9079",
   "metadata": {},
   "outputs": [],
   "source": [
    "modelo = KMeans(n_clusters=2)"
   ]
  },
  {
   "cell_type": "code",
   "execution_count": null,
   "id": "7574ae18",
   "metadata": {},
   "outputs": [],
   "source": [
    "etiqueta_grupo = modelo.fit_predict(X_escala)"
   ]
  },
  {
   "cell_type": "code",
   "execution_count": null,
   "id": "88c4a28a",
   "metadata": {},
   "outputs": [],
   "source": [
    "etiqueta_grupo"
   ]
  },
  {
   "cell_type": "code",
   "execution_count": null,
   "id": "057bf150",
   "metadata": {},
   "outputs": [],
   "source": [
    "len(etiqueta_grupo)"
   ]
  },
  {
   "cell_type": "code",
   "execution_count": null,
   "id": "f25e5d75",
   "metadata": {},
   "outputs": [],
   "source": [
    "X['Grupo'] = etiqueta_grupo"
   ]
  },
  {
   "cell_type": "code",
   "execution_count": null,
   "id": "aae509af",
   "metadata": {},
   "outputs": [],
   "source": [
    "X.tail()"
   ]
  },
  {
   "cell_type": "code",
   "execution_count": null,
   "id": "e84be69a",
   "metadata": {},
   "outputs": [],
   "source": [
    "plt.figure(dpi=200)\n",
    "sns.heatmap(X.corr())"
   ]
  },
  {
   "cell_type": "code",
   "execution_count": null,
   "id": "a4d6a3e8",
   "metadata": {},
   "outputs": [],
   "source": [
    "X.corr()['Grupo']"
   ]
  },
  {
   "cell_type": "code",
   "execution_count": null,
   "id": "45687335",
   "metadata": {},
   "outputs": [],
   "source": [
    "plt.figure(figsize=(12,6),dpi=200)\n",
    "X.corr()['Grupo'].iloc[:-1].sort_values().plot(kind='bar')"
   ]
  },
  {
   "cell_type": "markdown",
   "id": "5c2832f6",
   "metadata": {},
   "source": [
    "# Elección del K adecuado"
   ]
  },
  {
   "cell_type": "code",
   "execution_count": null,
   "id": "2f210a28",
   "metadata": {},
   "outputs": [],
   "source": [
    "ssd = []\n",
    "for k in range(2,10):\n",
    "    modelo = KMeans(n_clusters = k)\n",
    "    modelo.fit(X_escala)\n",
    "    ssd.append(modelo.inertia_)"
   ]
  },
  {
   "cell_type": "code",
   "execution_count": null,
   "id": "57b76a6b",
   "metadata": {},
   "outputs": [],
   "source": [
    "plt.plot(range(2,10),ssd,'o--')\n",
    "plt.xlabel(\"Valor de K\")\n",
    "plt.ylabel(\"Suma de distancias al cuadrado (ssd)\")"
   ]
  },
  {
   "cell_type": "markdown",
   "id": "2810218c",
   "metadata": {},
   "source": [
    "Análisis de la reducción SSE"
   ]
  },
  {
   "cell_type": "code",
   "execution_count": null,
   "id": "65877040",
   "metadata": {},
   "outputs": [],
   "source": [
    "ssd"
   ]
  },
  {
   "cell_type": "code",
   "execution_count": null,
   "id": "57a39e59",
   "metadata": {},
   "outputs": [],
   "source": [
    "pd.Series(ssd).diff().plot(kind='bar')"
   ]
  }
 ],
 "metadata": {
  "kernelspec": {
   "display_name": "Python 3",
   "language": "python",
   "name": "python3"
  },
  "language_info": {
   "codemirror_mode": {
    "name": "ipython",
    "version": 3
   },
   "file_extension": ".py",
   "mimetype": "text/x-python",
   "name": "python",
   "nbconvert_exporter": "python",
   "pygments_lexer": "ipython3",
   "version": "3.8.8"
  }
 },
 "nbformat": 4,
 "nbformat_minor": 5
}
