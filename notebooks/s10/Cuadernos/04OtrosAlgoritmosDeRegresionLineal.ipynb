{
 "cells": [
  {
   "cell_type": "markdown",
   "id": "92a2688d",
   "metadata": {},
   "source": [
    "# Mínimos Cuadrados Ordinarios (OLS) con statsmodels"
   ]
  },
  {
   "cell_type": "code",
   "execution_count": 1,
   "id": "30570673",
   "metadata": {},
   "outputs": [
    {
     "name": "stdout",
     "output_type": "stream",
     "text": [
      "                            OLS Regression Results                            \n",
      "==============================================================================\n",
      "Dep. Variable:                      y   R-squared:                       0.991\n",
      "Model:                            OLS   Adj. R-squared:                  0.991\n",
      "Method:                 Least Squares   F-statistic:                     3476.\n",
      "Date:                Mon, 27 May 2024   Prob (F-statistic):           9.50e-98\n",
      "Time:                        16:25:45   Log-Likelihood:                 91.368\n",
      "No. Observations:                 100   AIC:                            -174.7\n",
      "Df Residuals:                      96   BIC:                            -164.3\n",
      "Df Model:                           3                                         \n",
      "Covariance Type:            nonrobust                                         \n",
      "==============================================================================\n",
      "                 coef    std err          t      P>|t|      [0.025      0.975]\n",
      "------------------------------------------------------------------------------\n",
      "const          0.0253      0.031      0.808      0.421      -0.037       0.087\n",
      "x1             1.9703      0.036     54.322      0.000       1.898       2.042\n",
      "x2             2.9990      0.035     86.212      0.000       2.930       3.068\n",
      "x3            -0.0120      0.035     -0.346      0.730      -0.081       0.057\n",
      "==============================================================================\n",
      "Omnibus:                        1.181   Durbin-Watson:                   1.818\n",
      "Prob(Omnibus):                  0.554   Jarque-Bera (JB):                0.698\n",
      "Skew:                           0.152   Prob(JB):                        0.706\n",
      "Kurtosis:                       3.274   Cond. No.                         6.20\n",
      "==============================================================================\n",
      "\n",
      "Notes:\n",
      "[1] Standard Errors assume that the covariance matrix of the errors is correctly specified.\n"
     ]
    }
   ],
   "source": [
    "import numpy as np\n",
    "import pandas as pd\n",
    "import statsmodels.api as sm\n",
    "\n",
    "# Datos de ejemplo\n",
    "X = np.random.rand(100, 3)\n",
    "y = 2 * X[:, 0] + 3 * X[:, 1] + np.random.normal(0, 0.1, 100)\n",
    "\n",
    "# Agregar constante para el intercepto\n",
    "X = sm.add_constant(X)\n",
    "\n",
    "# Ajustar el modelo de regresión lineal\n",
    "model = sm.OLS(y, X).fit()\n",
    "\n",
    "# Resumen del modelo\n",
    "print(model.summary())"
   ]
  },
  {
   "cell_type": "markdown",
   "id": "2f12f3ce",
   "metadata": {},
   "source": [
    "# Regresión Ridge con Scikit-learn"
   ]
  },
  {
   "cell_type": "code",
   "execution_count": 2,
   "id": "4fb6dc99",
   "metadata": {},
   "outputs": [],
   "source": [
    "from sklearn.linear_model import Ridge"
   ]
  },
  {
   "cell_type": "code",
   "execution_count": 3,
   "id": "fba15d0c",
   "metadata": {},
   "outputs": [],
   "source": [
    "# Datos de ejemplo\n",
    "X = np.random.rand(100, 3)\n",
    "y = 2 * X[:, 0] + 3 * X[:, 1] + np.random.normal(0, 0.1, 100)"
   ]
  },
  {
   "cell_type": "code",
   "execution_count": 4,
   "id": "48d30145",
   "metadata": {},
   "outputs": [
    {
     "data": {
      "text/plain": [
       "(100, 3)"
      ]
     },
     "execution_count": 4,
     "metadata": {},
     "output_type": "execute_result"
    }
   ],
   "source": [
    "X.shape"
   ]
  },
  {
   "cell_type": "code",
   "execution_count": 6,
   "id": "6ea3edd0",
   "metadata": {},
   "outputs": [
    {
     "data": {
      "text/plain": [
       "array([[0.97862189, 0.09915705, 0.76365889],\n",
       "       [0.40007125, 0.24406113, 0.51238393],\n",
       "       [0.43185611, 0.96666993, 0.48776408],\n",
       "       [0.85556408, 0.67430735, 0.85305648],\n",
       "       [0.90603038, 0.26760861, 0.90251989]])"
      ]
     },
     "execution_count": 6,
     "metadata": {},
     "output_type": "execute_result"
    }
   ],
   "source": [
    "X[0:5,]"
   ]
  },
  {
   "cell_type": "code",
   "execution_count": 7,
   "id": "516dcd27",
   "metadata": {},
   "outputs": [
    {
     "data": {
      "text/plain": [
       "array([2.18993742, 1.39977978, 3.75521734, 3.69585057, 2.48479629])"
      ]
     },
     "execution_count": 7,
     "metadata": {},
     "output_type": "execute_result"
    }
   ],
   "source": [
    "y[0:5,]"
   ]
  },
  {
   "cell_type": "code",
   "execution_count": 8,
   "id": "991e073c",
   "metadata": {},
   "outputs": [
    {
     "data": {
      "text/html": [
       "<style>#sk-container-id-1 {color: black;}#sk-container-id-1 pre{padding: 0;}#sk-container-id-1 div.sk-toggleable {background-color: white;}#sk-container-id-1 label.sk-toggleable__label {cursor: pointer;display: block;width: 100%;margin-bottom: 0;padding: 0.3em;box-sizing: border-box;text-align: center;}#sk-container-id-1 label.sk-toggleable__label-arrow:before {content: \"▸\";float: left;margin-right: 0.25em;color: #696969;}#sk-container-id-1 label.sk-toggleable__label-arrow:hover:before {color: black;}#sk-container-id-1 div.sk-estimator:hover label.sk-toggleable__label-arrow:before {color: black;}#sk-container-id-1 div.sk-toggleable__content {max-height: 0;max-width: 0;overflow: hidden;text-align: left;background-color: #f0f8ff;}#sk-container-id-1 div.sk-toggleable__content pre {margin: 0.2em;color: black;border-radius: 0.25em;background-color: #f0f8ff;}#sk-container-id-1 input.sk-toggleable__control:checked~div.sk-toggleable__content {max-height: 200px;max-width: 100%;overflow: auto;}#sk-container-id-1 input.sk-toggleable__control:checked~label.sk-toggleable__label-arrow:before {content: \"▾\";}#sk-container-id-1 div.sk-estimator input.sk-toggleable__control:checked~label.sk-toggleable__label {background-color: #d4ebff;}#sk-container-id-1 div.sk-label input.sk-toggleable__control:checked~label.sk-toggleable__label {background-color: #d4ebff;}#sk-container-id-1 input.sk-hidden--visually {border: 0;clip: rect(1px 1px 1px 1px);clip: rect(1px, 1px, 1px, 1px);height: 1px;margin: -1px;overflow: hidden;padding: 0;position: absolute;width: 1px;}#sk-container-id-1 div.sk-estimator {font-family: monospace;background-color: #f0f8ff;border: 1px dotted black;border-radius: 0.25em;box-sizing: border-box;margin-bottom: 0.5em;}#sk-container-id-1 div.sk-estimator:hover {background-color: #d4ebff;}#sk-container-id-1 div.sk-parallel-item::after {content: \"\";width: 100%;border-bottom: 1px solid gray;flex-grow: 1;}#sk-container-id-1 div.sk-label:hover label.sk-toggleable__label {background-color: #d4ebff;}#sk-container-id-1 div.sk-serial::before {content: \"\";position: absolute;border-left: 1px solid gray;box-sizing: border-box;top: 0;bottom: 0;left: 50%;z-index: 0;}#sk-container-id-1 div.sk-serial {display: flex;flex-direction: column;align-items: center;background-color: white;padding-right: 0.2em;padding-left: 0.2em;position: relative;}#sk-container-id-1 div.sk-item {position: relative;z-index: 1;}#sk-container-id-1 div.sk-parallel {display: flex;align-items: stretch;justify-content: center;background-color: white;position: relative;}#sk-container-id-1 div.sk-item::before, #sk-container-id-1 div.sk-parallel-item::before {content: \"\";position: absolute;border-left: 1px solid gray;box-sizing: border-box;top: 0;bottom: 0;left: 50%;z-index: -1;}#sk-container-id-1 div.sk-parallel-item {display: flex;flex-direction: column;z-index: 1;position: relative;background-color: white;}#sk-container-id-1 div.sk-parallel-item:first-child::after {align-self: flex-end;width: 50%;}#sk-container-id-1 div.sk-parallel-item:last-child::after {align-self: flex-start;width: 50%;}#sk-container-id-1 div.sk-parallel-item:only-child::after {width: 0;}#sk-container-id-1 div.sk-dashed-wrapped {border: 1px dashed gray;margin: 0 0.4em 0.5em 0.4em;box-sizing: border-box;padding-bottom: 0.4em;background-color: white;}#sk-container-id-1 div.sk-label label {font-family: monospace;font-weight: bold;display: inline-block;line-height: 1.2em;}#sk-container-id-1 div.sk-label-container {text-align: center;}#sk-container-id-1 div.sk-container {/* jupyter's `normalize.less` sets `[hidden] { display: none; }` but bootstrap.min.css set `[hidden] { display: none !important; }` so we also need the `!important` here to be able to override the default hidden behavior on the sphinx rendered scikit-learn.org. See: https://github.com/scikit-learn/scikit-learn/issues/21755 */display: inline-block !important;position: relative;}#sk-container-id-1 div.sk-text-repr-fallback {display: none;}</style><div id=\"sk-container-id-1\" class=\"sk-top-container\"><div class=\"sk-text-repr-fallback\"><pre>Ridge()</pre><b>In a Jupyter environment, please rerun this cell to show the HTML representation or trust the notebook. <br />On GitHub, the HTML representation is unable to render, please try loading this page with nbviewer.org.</b></div><div class=\"sk-container\" hidden><div class=\"sk-item\"><div class=\"sk-estimator sk-toggleable\"><input class=\"sk-toggleable__control sk-hidden--visually\" id=\"sk-estimator-id-1\" type=\"checkbox\" checked><label for=\"sk-estimator-id-1\" class=\"sk-toggleable__label sk-toggleable__label-arrow\">Ridge</label><div class=\"sk-toggleable__content\"><pre>Ridge()</pre></div></div></div></div></div>"
      ],
      "text/plain": [
       "Ridge()"
      ]
     },
     "execution_count": 8,
     "metadata": {},
     "output_type": "execute_result"
    }
   ],
   "source": [
    "# Crear y ajustar el modelo de regresión Ridge\n",
    "ridge = Ridge(alpha=1.0)\n",
    "ridge.fit(X, y)"
   ]
  },
  {
   "cell_type": "code",
   "execution_count": 9,
   "id": "9e53c684",
   "metadata": {},
   "outputs": [
    {
     "name": "stdout",
     "output_type": "stream",
     "text": [
      "[1.81927729 2.76265452 0.00451722]\n"
     ]
    }
   ],
   "source": [
    "# Coeficientes del modelo\n",
    "print(ridge.coef_)"
   ]
  },
  {
   "cell_type": "code",
   "execution_count": 10,
   "id": "2e4b1c7d",
   "metadata": {},
   "outputs": [],
   "source": [
    "prediccion = ridge.predict(X)"
   ]
  },
  {
   "cell_type": "code",
   "execution_count": 11,
   "id": "9bc66621",
   "metadata": {},
   "outputs": [
    {
     "data": {
      "text/plain": [
       "array([2.26666301, 1.61330381, 3.66733655, 3.63213215, 2.60059967])"
      ]
     },
     "execution_count": 11,
     "metadata": {},
     "output_type": "execute_result"
    }
   ],
   "source": [
    "prediccion[0:5,]"
   ]
  },
  {
   "cell_type": "markdown",
   "id": "466759d8",
   "metadata": {},
   "source": [
    "# Regresión Lasso con Scikit-learn"
   ]
  },
  {
   "cell_type": "code",
   "execution_count": 12,
   "id": "bf3d31a6",
   "metadata": {},
   "outputs": [],
   "source": [
    "from sklearn.linear_model import Lasso"
   ]
  },
  {
   "cell_type": "code",
   "execution_count": 13,
   "id": "55139679",
   "metadata": {},
   "outputs": [],
   "source": [
    "# Datos de ejemplo\n",
    "X = np.random.rand(100, 3)\n",
    "y = 2 * X[:, 0] + 3 * X[:, 1] + np.random.normal(0, 0.1, 100)"
   ]
  },
  {
   "cell_type": "code",
   "execution_count": 14,
   "id": "ee24794d",
   "metadata": {},
   "outputs": [
    {
     "data": {
      "text/html": [
       "<style>#sk-container-id-2 {color: black;}#sk-container-id-2 pre{padding: 0;}#sk-container-id-2 div.sk-toggleable {background-color: white;}#sk-container-id-2 label.sk-toggleable__label {cursor: pointer;display: block;width: 100%;margin-bottom: 0;padding: 0.3em;box-sizing: border-box;text-align: center;}#sk-container-id-2 label.sk-toggleable__label-arrow:before {content: \"▸\";float: left;margin-right: 0.25em;color: #696969;}#sk-container-id-2 label.sk-toggleable__label-arrow:hover:before {color: black;}#sk-container-id-2 div.sk-estimator:hover label.sk-toggleable__label-arrow:before {color: black;}#sk-container-id-2 div.sk-toggleable__content {max-height: 0;max-width: 0;overflow: hidden;text-align: left;background-color: #f0f8ff;}#sk-container-id-2 div.sk-toggleable__content pre {margin: 0.2em;color: black;border-radius: 0.25em;background-color: #f0f8ff;}#sk-container-id-2 input.sk-toggleable__control:checked~div.sk-toggleable__content {max-height: 200px;max-width: 100%;overflow: auto;}#sk-container-id-2 input.sk-toggleable__control:checked~label.sk-toggleable__label-arrow:before {content: \"▾\";}#sk-container-id-2 div.sk-estimator input.sk-toggleable__control:checked~label.sk-toggleable__label {background-color: #d4ebff;}#sk-container-id-2 div.sk-label input.sk-toggleable__control:checked~label.sk-toggleable__label {background-color: #d4ebff;}#sk-container-id-2 input.sk-hidden--visually {border: 0;clip: rect(1px 1px 1px 1px);clip: rect(1px, 1px, 1px, 1px);height: 1px;margin: -1px;overflow: hidden;padding: 0;position: absolute;width: 1px;}#sk-container-id-2 div.sk-estimator {font-family: monospace;background-color: #f0f8ff;border: 1px dotted black;border-radius: 0.25em;box-sizing: border-box;margin-bottom: 0.5em;}#sk-container-id-2 div.sk-estimator:hover {background-color: #d4ebff;}#sk-container-id-2 div.sk-parallel-item::after {content: \"\";width: 100%;border-bottom: 1px solid gray;flex-grow: 1;}#sk-container-id-2 div.sk-label:hover label.sk-toggleable__label {background-color: #d4ebff;}#sk-container-id-2 div.sk-serial::before {content: \"\";position: absolute;border-left: 1px solid gray;box-sizing: border-box;top: 0;bottom: 0;left: 50%;z-index: 0;}#sk-container-id-2 div.sk-serial {display: flex;flex-direction: column;align-items: center;background-color: white;padding-right: 0.2em;padding-left: 0.2em;position: relative;}#sk-container-id-2 div.sk-item {position: relative;z-index: 1;}#sk-container-id-2 div.sk-parallel {display: flex;align-items: stretch;justify-content: center;background-color: white;position: relative;}#sk-container-id-2 div.sk-item::before, #sk-container-id-2 div.sk-parallel-item::before {content: \"\";position: absolute;border-left: 1px solid gray;box-sizing: border-box;top: 0;bottom: 0;left: 50%;z-index: -1;}#sk-container-id-2 div.sk-parallel-item {display: flex;flex-direction: column;z-index: 1;position: relative;background-color: white;}#sk-container-id-2 div.sk-parallel-item:first-child::after {align-self: flex-end;width: 50%;}#sk-container-id-2 div.sk-parallel-item:last-child::after {align-self: flex-start;width: 50%;}#sk-container-id-2 div.sk-parallel-item:only-child::after {width: 0;}#sk-container-id-2 div.sk-dashed-wrapped {border: 1px dashed gray;margin: 0 0.4em 0.5em 0.4em;box-sizing: border-box;padding-bottom: 0.4em;background-color: white;}#sk-container-id-2 div.sk-label label {font-family: monospace;font-weight: bold;display: inline-block;line-height: 1.2em;}#sk-container-id-2 div.sk-label-container {text-align: center;}#sk-container-id-2 div.sk-container {/* jupyter's `normalize.less` sets `[hidden] { display: none; }` but bootstrap.min.css set `[hidden] { display: none !important; }` so we also need the `!important` here to be able to override the default hidden behavior on the sphinx rendered scikit-learn.org. See: https://github.com/scikit-learn/scikit-learn/issues/21755 */display: inline-block !important;position: relative;}#sk-container-id-2 div.sk-text-repr-fallback {display: none;}</style><div id=\"sk-container-id-2\" class=\"sk-top-container\"><div class=\"sk-text-repr-fallback\"><pre>Lasso(alpha=0.1)</pre><b>In a Jupyter environment, please rerun this cell to show the HTML representation or trust the notebook. <br />On GitHub, the HTML representation is unable to render, please try loading this page with nbviewer.org.</b></div><div class=\"sk-container\" hidden><div class=\"sk-item\"><div class=\"sk-estimator sk-toggleable\"><input class=\"sk-toggleable__control sk-hidden--visually\" id=\"sk-estimator-id-2\" type=\"checkbox\" checked><label for=\"sk-estimator-id-2\" class=\"sk-toggleable__label sk-toggleable__label-arrow\">Lasso</label><div class=\"sk-toggleable__content\"><pre>Lasso(alpha=0.1)</pre></div></div></div></div></div>"
      ],
      "text/plain": [
       "Lasso(alpha=0.1)"
      ]
     },
     "execution_count": 14,
     "metadata": {},
     "output_type": "execute_result"
    }
   ],
   "source": [
    "# Crear y ajustar el modelo de regresión Lasso\n",
    "lasso = Lasso(alpha=0.1)\n",
    "lasso.fit(X, y)"
   ]
  },
  {
   "cell_type": "code",
   "execution_count": 15,
   "id": "ef94470e",
   "metadata": {},
   "outputs": [
    {
     "name": "stdout",
     "output_type": "stream",
     "text": [
      "[ 0.48265155  1.44685969 -0.        ]\n"
     ]
    }
   ],
   "source": [
    "# Coeficientes del modelo\n",
    "print(lasso.coef_)"
   ]
  },
  {
   "cell_type": "code",
   "execution_count": 16,
   "id": "fa25b085",
   "metadata": {},
   "outputs": [
    {
     "data": {
      "text/plain": [
       "array([[0.34871362, 0.38032015, 0.78070574],\n",
       "       [0.10036186, 0.44496039, 0.87524591],\n",
       "       [0.86796024, 0.23162328, 0.50313038],\n",
       "       [0.39089   , 0.9216433 , 0.8927068 ],\n",
       "       [0.05195513, 0.52485   , 0.89360282]])"
      ]
     },
     "execution_count": 16,
     "metadata": {},
     "output_type": "execute_result"
    }
   ],
   "source": [
    "X[0:5,]"
   ]
  },
  {
   "cell_type": "code",
   "execution_count": 17,
   "id": "cba7e97f",
   "metadata": {},
   "outputs": [
    {
     "data": {
      "text/plain": [
       "array([1.82380979, 1.48553009, 2.65118694, 3.69219398, 1.77568997])"
      ]
     },
     "execution_count": 17,
     "metadata": {},
     "output_type": "execute_result"
    }
   ],
   "source": [
    "y[0:5,]"
   ]
  },
  {
   "cell_type": "code",
   "execution_count": 18,
   "id": "4617e8c7",
   "metadata": {},
   "outputs": [
    {
     "data": {
      "text/plain": [
       "array([2.17010943, 2.14376742, 2.20558111, 2.97368457, 2.2359929 ])"
      ]
     },
     "execution_count": 18,
     "metadata": {},
     "output_type": "execute_result"
    }
   ],
   "source": [
    "pred_lasso = lasso.predict(X)\n",
    "pred_lasso[0:5,]"
   ]
  },
  {
   "cell_type": "markdown",
   "id": "5491c44f",
   "metadata": {},
   "source": [
    "# Elastic Net con Scikit-learn"
   ]
  },
  {
   "cell_type": "code",
   "execution_count": 19,
   "id": "00a5fb30",
   "metadata": {},
   "outputs": [
    {
     "name": "stdout",
     "output_type": "stream",
     "text": [
      "[1.07965326 1.55266664 0.        ]\n"
     ]
    }
   ],
   "source": [
    "from sklearn.linear_model import ElasticNet\n",
    "\n",
    "# Datos de ejemplo\n",
    "X = np.random.rand(100, 3)\n",
    "y = 2 * X[:, 0] + 3 * X[:, 1] + np.random.normal(0, 0.1, 100)\n",
    "\n",
    "# Crear y ajustar el modelo de regresión Elastic Net\n",
    "elastic_net = ElasticNet(alpha=0.1, l1_ratio=0.5)\n",
    "elastic_net.fit(X, y)\n",
    "\n",
    "# Coeficientes del modelo\n",
    "print(elastic_net.coef_)"
   ]
  },
  {
   "cell_type": "code",
   "execution_count": 20,
   "id": "ccfd01e7",
   "metadata": {},
   "outputs": [],
   "source": [
    "pred_elastic = elastic_net.predict(X)"
   ]
  },
  {
   "cell_type": "code",
   "execution_count": 21,
   "id": "1bc6e358",
   "metadata": {},
   "outputs": [
    {
     "data": {
      "text/plain": [
       "array([4.32443284, 2.68267635, 1.84099319, 4.20342798, 3.46183934])"
      ]
     },
     "execution_count": 21,
     "metadata": {},
     "output_type": "execute_result"
    }
   ],
   "source": [
    "y[0:5,]"
   ]
  },
  {
   "cell_type": "code",
   "execution_count": 22,
   "id": "bf33dfaf",
   "metadata": {},
   "outputs": [
    {
     "data": {
      "text/plain": [
       "array([3.40457559, 2.61607343, 2.35028169, 3.35268366, 2.89174897])"
      ]
     },
     "execution_count": 22,
     "metadata": {},
     "output_type": "execute_result"
    }
   ],
   "source": [
    "pred_elastic[0:5,]"
   ]
  },
  {
   "cell_type": "markdown",
   "id": "9fb302ea",
   "metadata": {},
   "source": [
    "# Descenso del Gradiente con Scikit-learn"
   ]
  },
  {
   "cell_type": "code",
   "execution_count": 23,
   "id": "eee3f4d9",
   "metadata": {},
   "outputs": [
    {
     "name": "stdout",
     "output_type": "stream",
     "text": [
      "[ 1.45087859  2.07374354 -0.0068268 ]\n"
     ]
    }
   ],
   "source": [
    "from sklearn.linear_model import SGDRegressor\n",
    "\n",
    "# Datos de ejemplo\n",
    "X = np.random.rand(100, 3)\n",
    "y = 2 * X[:, 0] + 3 * X[:, 1] + np.random.normal(0, 0.1, 100)\n",
    "\n",
    "# Crear y ajustar el modelo de regresión con descenso del gradiente\n",
    "sgd = SGDRegressor(max_iter=1000, tol=1e-3)\n",
    "sgd.fit(X, y)\n",
    "\n",
    "# Coeficientes del modelo\n",
    "print(sgd.coef_)"
   ]
  },
  {
   "cell_type": "code",
   "execution_count": 24,
   "id": "8b84041e",
   "metadata": {},
   "outputs": [],
   "source": [
    "pred_sgd = sgd.predict(X)"
   ]
  },
  {
   "cell_type": "code",
   "execution_count": 25,
   "id": "b56847c0",
   "metadata": {},
   "outputs": [
    {
     "data": {
      "text/plain": [
       "array([2.00694216, 2.56151188, 2.72765606, 3.1397565 , 3.15843334])"
      ]
     },
     "execution_count": 25,
     "metadata": {},
     "output_type": "execute_result"
    }
   ],
   "source": [
    "y[0:5,]"
   ]
  },
  {
   "cell_type": "code",
   "execution_count": 26,
   "id": "45a3c06b",
   "metadata": {},
   "outputs": [
    {
     "data": {
      "text/plain": [
       "array([2.14642488, 2.52922118, 2.69753855, 2.89381008, 2.92449593])"
      ]
     },
     "execution_count": 26,
     "metadata": {},
     "output_type": "execute_result"
    }
   ],
   "source": [
    "pred_sgd[0:5,]"
   ]
  }
 ],
 "metadata": {
  "kernelspec": {
   "display_name": "Python 3 (ipykernel)",
   "language": "python",
   "name": "python3"
  },
  "language_info": {
   "codemirror_mode": {
    "name": "ipython",
    "version": 3
   },
   "file_extension": ".py",
   "mimetype": "text/x-python",
   "name": "python",
   "nbconvert_exporter": "python",
   "pygments_lexer": "ipython3",
   "version": "3.11.4"
  }
 },
 "nbformat": 4,
 "nbformat_minor": 5
}
