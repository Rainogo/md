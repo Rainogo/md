{
 "cells": [
  {
   "cell_type": "markdown",
   "id": "a200130a",
   "metadata": {},
   "source": [
    "# Regresión Con Características Polinómicas"
   ]
  },
  {
   "cell_type": "code",
   "execution_count": 1,
   "id": "efef8c90",
   "metadata": {},
   "outputs": [
    {
     "name": "stdout",
     "output_type": "stream",
     "text": [
      "[[ 1.  1.  1.]\n",
      " [ 1.  2.  4.]\n",
      " [ 1.  3.  9.]\n",
      " [ 1.  4. 16.]\n",
      " [ 1.  5. 25.]]\n"
     ]
    }
   ],
   "source": [
    "import numpy as np\n",
    "from sklearn.preprocessing import PolynomialFeatures\n",
    "\n",
    "# Datos de ejemplo\n",
    "X = np.array([1, 2, 3, 4, 5]).reshape(-1, 1)\n",
    "\n",
    "# Crear un objeto PolynomialFeatures de grado 2\n",
    "poly = PolynomialFeatures(degree=2)\n",
    "X_poly = poly.fit_transform(X)\n",
    "\n",
    "print(X_poly)"
   ]
  },
  {
   "cell_type": "code",
   "execution_count": 2,
   "id": "687e4c98",
   "metadata": {},
   "outputs": [],
   "source": [
    "from sklearn.linear_model import LinearRegression\n",
    "\n",
    "# Variable dependiente\n",
    "y = np.array([1, 4, 9, 16, 25])\n",
    "\n",
    "# Ajustar el modelo de regresión lineal a las características polinómicas\n",
    "model = LinearRegression()\n",
    "model.fit(X_poly, y)\n",
    "\n",
    "# Predicciones\n",
    "y_pred = model.predict(X_poly)"
   ]
  },
  {
   "cell_type": "code",
   "execution_count": 3,
   "id": "29009fbd",
   "metadata": {},
   "outputs": [
    {
     "name": "stdout",
     "output_type": "stream",
     "text": [
      "MSE: 5.029974346915477e-29, R2: 1.0\n"
     ]
    }
   ],
   "source": [
    "from sklearn.metrics import mean_squared_error, r2_score\n",
    "\n",
    "# Evaluación del modelo\n",
    "mse = mean_squared_error(y, y_pred)\n",
    "r2 = r2_score(y, y_pred)\n",
    "\n",
    "print(f\"MSE: {mse}, R2: {r2}\")"
   ]
  },
  {
   "cell_type": "code",
   "execution_count": null,
   "id": "b4b2482c",
   "metadata": {},
   "outputs": [],
   "source": []
  }
 ],
 "metadata": {
  "kernelspec": {
   "display_name": "Python 3 (ipykernel)",
   "language": "python",
   "name": "python3"
  },
  "language_info": {
   "codemirror_mode": {
    "name": "ipython",
    "version": 3
   },
   "file_extension": ".py",
   "mimetype": "text/x-python",
   "name": "python",
   "nbconvert_exporter": "python",
   "pygments_lexer": "ipython3",
   "version": "3.12.4"
  }
 },
 "nbformat": 4,
 "nbformat_minor": 5
}
